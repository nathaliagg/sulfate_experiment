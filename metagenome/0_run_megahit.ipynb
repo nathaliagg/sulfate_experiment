{
 "cells": [
  {
   "cell_type": "code",
   "execution_count": 1,
   "metadata": {},
   "outputs": [],
   "source": [
    "import os\n",
    "import glob"
   ]
  },
  {
   "cell_type": "code",
   "execution_count": 2,
   "metadata": {},
   "outputs": [],
   "source": [
    "os.chdir('/xdisk/tfaily/mig2020/extra/nathaliagg/sulfate_experiment/metagenome/')"
   ]
  },
  {
   "cell_type": "code",
   "execution_count": 16,
   "metadata": {},
   "outputs": [],
   "source": [
    "r1_files = glob.glob('data/data_fastq/R1/*.gz')\n",
    "r2_files = glob.glob('data/data_fastq/R2/*.gz')\n",
    "\n",
    "dict_files = {'R1':{}, 'R2':{}}"
   ]
  },
  {
   "cell_type": "code",
   "execution_count": 17,
   "metadata": {},
   "outputs": [],
   "source": [
    "unique_samples = set()\n",
    "\n",
    "for file in r1_files:\n",
    "    sample_code = file.split('/')[-1].split('_')[0][4:]\n",
    "    unique_samples.add(sample_code)\n",
    "    file_name = file.split('/')[-1]\n",
    "    if sample_code not in dict_files['R1']:\n",
    "        dict_files['R1'][sample_code] = list()\n",
    "        dict_files['R1'][sample_code].append(\"$DATADIR/R1/\"+file_name)\n",
    "    else:\n",
    "        dict_files['R1'][sample_code].append(\"$DATADIR/R1/\"+file_name)\n",
    "    \n",
    "for sample_code in dict_files['R1']:\n",
    "    dict_files['R1'][sample_code] = sorted(dict_files['R1'][sample_code])\n",
    "    \n",
    "for file in r2_files:\n",
    "    sample_code = file.split('/')[-1].split('_')[0][4:]\n",
    "    file_name = file.split('/')[-1]\n",
    "    if sample_code not in dict_files['R2']:\n",
    "        dict_files['R2'][sample_code] = list()\n",
    "        dict_files['R2'][sample_code].append(\"$DATADIR/R2/\"+file_name)\n",
    "    else:\n",
    "        dict_files['R2'][sample_code].append(\"$DATADIR/R2/\"+file_name)\n",
    "        \n",
    "for sample_code in dict_files['R1']:\n",
    "    dict_files['R2'][sample_code] = sorted(dict_files['R2'][sample_code])"
   ]
  },
  {
   "cell_type": "code",
   "execution_count": 18,
   "metadata": {},
   "outputs": [
    {
     "data": {
      "text/plain": [
       "['$DATADIR/R1/NGG-50B_S8_L001_R1_001.fastq.gz',\n",
       " '$DATADIR/R1/NGG-50B_S8_L002_R1_001.fastq.gz',\n",
       " '$DATADIR/R1/NGG-50B_S8_L003_R1_001.fastq.gz',\n",
       " '$DATADIR/R1/NGG-50B_S8_L004_R1_001.fastq.gz']"
      ]
     },
     "execution_count": 18,
     "metadata": {},
     "output_type": "execute_result"
    }
   ],
   "source": [
    "dict_files['R1']['50B']"
   ]
  },
  {
   "cell_type": "code",
   "execution_count": 19,
   "metadata": {},
   "outputs": [
    {
     "data": {
      "text/plain": [
       "['$DATADIR/R2/NGG-50B_S8_L001_R2_001.fastq.gz',\n",
       " '$DATADIR/R2/NGG-50B_S8_L002_R2_001.fastq.gz',\n",
       " '$DATADIR/R2/NGG-50B_S8_L003_R2_001.fastq.gz',\n",
       " '$DATADIR/R2/NGG-50B_S8_L004_R2_001.fastq.gz']"
      ]
     },
     "execution_count": 19,
     "metadata": {},
     "output_type": "execute_result"
    }
   ],
   "source": [
    "dict_files['R2']['50B']"
   ]
  },
  {
   "cell_type": "code",
   "execution_count": 25,
   "metadata": {},
   "outputs": [],
   "source": [
    "%%bash\n",
    "SCRIPT_NAME=\"template\"\n",
    "/home/u30/nathaliagg/ngg_scripts/make_slurm_script.py -s $SCRIPT_NAME -n 1 \\\n",
    "                                                      -c 96 -j megahit \\\n",
    "                                                      -w 64:00:00 -e nathaliagg@email.arizona.edu \\\n",
    "                                                      -pi tfaily \n",
    "                                                      \n",
    "echo \"module load anaconda/2020.02\n",
    "\" >> $SCRIPT_NAME.slurm\n",
    "\n",
    "echo \"source activate megahit_env\n",
    "\" >> $SCRIPT_NAME.slurm"
   ]
  },
  {
   "cell_type": "code",
   "execution_count": 26,
   "metadata": {},
   "outputs": [],
   "source": [
    "outputdir = 'megahit_output'\n",
    "\n",
    "if not os.path.exists('megahit_output'):\n",
    "    os.makedirs('megahit_output')"
   ]
  },
  {
   "cell_type": "code",
   "execution_count": 27,
   "metadata": {},
   "outputs": [],
   "source": [
    "script_name=\"template\"\n",
    "\n",
    "for sample in sorted(unique_samples):\n",
    "    with open(script_name+'.slurm', 'r') as file:\n",
    "        with open('megahit_'+sample+'.slurm', 'a') as out:\n",
    "            for line in file:\n",
    "                out.write(line)\n",
    "            \n",
    "            out.write('export DATADIR=\"{}\"\\n'.format(\"data/data_fastq/\"))\n",
    "            out.write('export R1s=\"{}\"\\n'.format(\",\".join(dict_files['R1'][sample])))\n",
    "            out.write('export R2s=\"{}\"\\n'.format(\",\".join(dict_files['R2'][sample])))\n",
    "            \n",
    "            out.write('megahit -1 $R1s -2 $R2s -m 0.90 -o megahit_output/{}_output'.format(sample))"
   ]
  },
  {
   "cell_type": "code",
   "execution_count": 28,
   "metadata": {},
   "outputs": [
    {
     "name": "stdout",
     "output_type": "stream",
     "text": [
      "megahit_18A.slurm\n",
      "Submitted batch job 336196\n",
      "megahit_18B.slurm\n",
      "Submitted batch job 336197\n",
      "megahit_26A.slurm\n",
      "Submitted batch job 336198\n",
      "megahit_26B.slurm\n",
      "Submitted batch job 336199\n",
      "megahit_34A.slurm\n",
      "Submitted batch job 336200\n",
      "megahit_34B.slurm\n",
      "Submitted batch job 336201\n",
      "megahit_50A.slurm\n",
      "Submitted batch job 336202\n",
      "megahit_50B.slurm\n",
      "Submitted batch job 336203\n",
      "megahit_82A.slurm\n",
      "Submitted batch job 336204\n",
      "megahit_82B.slurm\n",
      "Submitted batch job 336205\n"
     ]
    }
   ],
   "source": [
    "%%bash\n",
    "for file in megahit*slurm; do echo $file; sbatch $file; done"
   ]
  },
  {
   "cell_type": "markdown",
   "metadata": {},
   "source": [
    "**Job completion**\n",
    "\n",
    "```\n",
    "megahit_18A.slurm\n",
    "Submitted batch job 336196 ~ 8:10h\n",
    "\n",
    "megahit_18B.slurm\n",
    "Submitted batch job 336197 ~ 7:50h\n",
    "\n",
    "megahit_26A.slurm\n",
    "Submitted batch job 336198 ~ 9:10h\n",
    "\n",
    "megahit_26B.slurm\n",
    "Submitted batch job 336199 ~ 8:50h\n",
    "\n",
    "megahit_34A.slurm\n",
    "Submitted batch job 336200 ~ 3:50h\n",
    "\n",
    "megahit_34B.slurm\n",
    "Submitted batch job 336201 ~ 9:10h\n",
    "\n",
    "megahit_50A.slurm\n",
    "Submitted batch job 336202 ~ 6:45h\n",
    "\n",
    "megahit_50B.slurm\n",
    "Submitted batch job 336203 ~ 7:40h\n",
    "\n",
    "megahit_82A.slurm\n",
    "Submitted batch job 336204 ~ 7:50h\n",
    "\n",
    "megahit_82B.slurm\n",
    "Submitted batch job 336205 ~ 7:15h\n",
    "```"
   ]
  },
  {
   "cell_type": "code",
   "execution_count": null,
   "metadata": {},
   "outputs": [],
   "source": []
  }
 ],
 "metadata": {
  "kernelspec": {
   "display_name": "Python 3",
   "language": "python",
   "name": "python3"
  },
  "language_info": {
   "codemirror_mode": {
    "name": "ipython",
    "version": 3
   },
   "file_extension": ".py",
   "mimetype": "text/x-python",
   "name": "python",
   "nbconvert_exporter": "python",
   "pygments_lexer": "ipython3",
   "version": "3.6.5"
  }
 },
 "nbformat": 4,
 "nbformat_minor": 2
}
