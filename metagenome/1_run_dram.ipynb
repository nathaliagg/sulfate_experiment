{
 "cells": [
  {
   "cell_type": "code",
   "execution_count": 1,
   "metadata": {},
   "outputs": [],
   "source": [
    "import os\n",
    "import shutil\n",
    "import glob"
   ]
  },
  {
   "cell_type": "code",
   "execution_count": 2,
   "metadata": {},
   "outputs": [],
   "source": [
    "os.chdir('/xdisk/tfaily/mig2020/extra/nathaliagg/sulfate_experiment/metagenome/')"
   ]
  },
  {
   "cell_type": "code",
   "execution_count": 3,
   "metadata": {},
   "outputs": [
    {
     "data": {
      "text/plain": [
       "['megahit_output/18A_output/final.contigs.fa',\n",
       " 'megahit_output/18B_output/final.contigs.fa',\n",
       " 'megahit_output/26A_output/final.contigs.fa',\n",
       " 'megahit_output/26B_output/final.contigs.fa',\n",
       " 'megahit_output/34A_output/final.contigs.fa',\n",
       " 'megahit_output/34B_output/final.contigs.fa',\n",
       " 'megahit_output/50A_output/final.contigs.fa',\n",
       " 'megahit_output/50B_output/final.contigs.fa',\n",
       " 'megahit_output/82A_output/final.contigs.fa',\n",
       " 'megahit_output/82B_output/final.contigs.fa']"
      ]
     },
     "execution_count": 3,
     "metadata": {},
     "output_type": "execute_result"
    }
   ],
   "source": [
    "megahit_outputs = sorted(glob.glob('megahit_output/*/final.contigs.fa'))\n",
    "megahit_outputs"
   ]
  },
  {
   "cell_type": "code",
   "execution_count": 4,
   "metadata": {},
   "outputs": [],
   "source": [
    "outputdir = 'megahit_assemblies'\n",
    "\n",
    "if not os.path.exists('megahit_assemblies'):\n",
    "    os.makedirs('megahit_assemblies')"
   ]
  },
  {
   "cell_type": "code",
   "execution_count": 5,
   "metadata": {},
   "outputs": [],
   "source": [
    "for file in megahit_outputs:\n",
    "    sample = file.split('/')[1].split('_')[0]\n",
    "    new_name = \"{}_assembly.fa\".format(sample)\n",
    "    shutil.copyfile(file, os.path.join(outputdir, new_name))"
   ]
  },
  {
   "cell_type": "code",
   "execution_count": 6,
   "metadata": {},
   "outputs": [],
   "source": [
    "%%bash\n",
    "SCRIPT_NAME=\"run_dram\"\n",
    "/home/u30/nathaliagg/ngg_scripts/make_slurm_script.py -s $SCRIPT_NAME -n 1 \\\n",
    "                                                      -c 96 -j dram \\\n",
    "                                                      -w 72:00:00 -e nathaliagg@email.arizona.edu \\\n",
    "                                                      -pi tfaily \n",
    "                                                      \n",
    "echo \"module load anaconda/2020.02\n",
    "\" >> $SCRIPT_NAME.slurm\n",
    "\n",
    "echo \"source activate dram_env\n",
    "\" >> $SCRIPT_NAME.slurm\n",
    "\n",
    "echo \"DRAM.py annotate -i 'megahit_assemblies/*.fa' -o dram_output\n",
    "\" >> $SCRIPT_NAME.slurm\n",
    "\n",
    "echo \"DRAM.py distill -i dram_output/annotations.tsv -o dram_summaries\n",
    "\" >> $SCRIPT_NAME.slurm"
   ]
  },
  {
   "cell_type": "code",
   "execution_count": 7,
   "metadata": {},
   "outputs": [
    {
     "name": "stdout",
     "output_type": "stream",
     "text": [
      "Submitted batch job 336577\n"
     ]
    }
   ],
   "source": [
    "%%bash\n",
    "sbatch run_dram.slurm"
   ]
  },
  {
   "cell_type": "code",
   "execution_count": null,
   "metadata": {},
   "outputs": [],
   "source": []
  }
 ],
 "metadata": {
  "kernelspec": {
   "display_name": "Python 3",
   "language": "python",
   "name": "python3"
  },
  "language_info": {
   "codemirror_mode": {
    "name": "ipython",
    "version": 3
   },
   "file_extension": ".py",
   "mimetype": "text/x-python",
   "name": "python",
   "nbconvert_exporter": "python",
   "pygments_lexer": "ipython3",
   "version": "3.6.5"
  }
 },
 "nbformat": 4,
 "nbformat_minor": 4
}
