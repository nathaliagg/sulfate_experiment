{
 "cells": [
  {
   "cell_type": "markdown",
   "metadata": {},
   "source": [
    "# 07/04/2020\n",
    "\n",
    "Source: https://docs.qiime2.org/2020.2/tutorials/moving-pictures/#alpha-and-beta-diversity-analysis\n",
    "\n",
    "1. Alpha and beta diversity analyses\n",
    "2. Ordination\n",
    "\n",
    "Source: https://docs.qiime2.org/2020.2/tutorials/moving-pictures/#differential-abundance-testing-with-ancom\n",
    "\n",
    "3. Differential abundance with ANCOM"
   ]
  },
  {
   "cell_type": "code",
   "execution_count": 1,
   "metadata": {},
   "outputs": [],
   "source": [
    "cd /xdisk/tfaily/mig2020/extra/nathaliagg/sulfate_experiment/microbial_16S/qiime2"
   ]
  },
  {
   "cell_type": "markdown",
   "metadata": {},
   "source": [
    "### Load module and activate conda environment\n",
    "\n",
    "Disregard warnings."
   ]
  },
  {
   "cell_type": "code",
   "execution_count": 2,
   "metadata": {},
   "outputs": [
    {
     "name": "stdout",
     "output_type": "stream",
     "text": [
      "WARNING: $PATH does not agree with $PATH_modshare counter. The following directories' usage counters were adjusted to match. Note that this may mean that module unloading may not work correctly.\n",
      " /cm/local/apps/environment-modules/4.0.0//bin /cm/shared/uaapps/pbspro/19.2.4/sbin /cm/shared/uaapps/pbspro/19.2.4/bin\n",
      "WARNING: $MANPATH does not agree with $MANPATH_modshare counter. The following directories' usage counters were adjusted to match. Note that this may mean that module unloading may not work correctly.\n",
      " /cm/shared/uaapps/pbspro/19.2.4/share/man\n"
     ]
    }
   ],
   "source": [
    "module load anaconda/2020/2020.02"
   ]
  },
  {
   "cell_type": "code",
   "execution_count": 3,
   "metadata": {},
   "outputs": [
    {
     "name": "stdout",
     "output_type": "stream",
     "text": [
      "(qiime2-2020.2) "
     ]
    },
    {
     "ename": "",
     "evalue": "1",
     "output_type": "error",
     "traceback": []
    }
   ],
   "source": [
    "source activate qiime2-2020.2"
   ]
  },
  {
   "cell_type": "markdown",
   "metadata": {},
   "source": [
    "### 1. Alpha and beta diversity\n",
    "\n",
    "Diversity analyses are available through the `q2-diversity plugin`, which supports computing alpha and beta diversity metrics, applying related statistical tests, and generating interactive visualizations. \n",
    "\n",
    "First apply the `core-metrics-phylogenetic` method, which rarefies a `FeatureTable[Frequency]` to a user-specified depth, computes several alpha and beta diversity metrics, and generates principle coordinates analysis (PCoA) plots using Emperor for each of the beta diversity metrics. The metrics computed by default are:\n",
    "\n",
    "- Alpha diversity\n",
    "    - Shannon’s diversity index (a quantitative measure of community richness)\n",
    "    - Observed OTUs (a qualitative measure of community richness)\n",
    "    - Faith’s Phylogenetic Diversity (a qualitiative measure of community richness that incorporates phylogenetic relationships between the features)\n",
    "    - Evenness (or Pielou’s Evenness; a measure of community evenness)\n",
    "\n",
    "\n",
    "- Beta diversity\n",
    "    - Jaccard distance (a qualitative measure of community dissimilarity)\n",
    "    - Bray-Curtis distance (a quantitative measure of community dissimilarity)\n",
    "    - unweighted UniFrac distance (a qualitative measure of community dissimilarity that incorporates phylogenetic relationships between the features)\n",
    "    - weighted UniFrac distance (a quantitative measure of community dissimilarity that incorporates phylogenetic relationships between the features)\n",
    "\n",
    "An important parameter that needs to be provided is `--p-sampling-depth`, which is the even sampling (i.e. alpha rarefaction) depth. Because most diversity metrics are sensitive to different sampling depths across different samples, this script will randomly subsample the counts from each sample to the value provided for this parameter. For example, if `--p-sampling-depth 500` is provided, this step will subsample the counts in each sample without replacement so that each sample in the resulting table has a total count of 500. If the total count for any sample(s) are smaller than this value, those samples will be dropped from the diversity analysis. **Choosing this value is tricky.** Make the choice by reviewing the information presented in the `table.qzv` file that was created previously. Choose a value that is as high as possible (so you retain more sequences per sample) while excluding as few samples as possible."
   ]
  },
  {
   "cell_type": "code",
   "execution_count": 4,
   "metadata": {},
   "outputs": [
    {
     "name": "stdout",
     "output_type": "stream",
     "text": [
      "\u001b[32mSaved FeatureTable[Frequency] to: core-metrics-results/rarefied_table.qza\u001b[0m\n",
      "\u001b[32mSaved SampleData[AlphaDiversity] % Properties('phylogenetic') to: core-metrics-results/faith_pd_vector.qza\u001b[0m\n",
      "\u001b[32mSaved SampleData[AlphaDiversity] to: core-metrics-results/observed_otus_vector.qza\u001b[0m\n",
      "\u001b[32mSaved SampleData[AlphaDiversity] to: core-metrics-results/shannon_vector.qza\u001b[0m\n",
      "\u001b[32mSaved SampleData[AlphaDiversity] to: core-metrics-results/evenness_vector.qza\u001b[0m\n",
      "\u001b[32mSaved DistanceMatrix % Properties('phylogenetic') to: core-metrics-results/unweighted_unifrac_distance_matrix.qza\u001b[0m\n",
      "\u001b[32mSaved DistanceMatrix % Properties('phylogenetic') to: core-metrics-results/weighted_unifrac_distance_matrix.qza\u001b[0m\n",
      "\u001b[32mSaved DistanceMatrix to: core-metrics-results/jaccard_distance_matrix.qza\u001b[0m\n",
      "\u001b[32mSaved DistanceMatrix to: core-metrics-results/bray_curtis_distance_matrix.qza\u001b[0m\n",
      "\u001b[32mSaved PCoAResults to: core-metrics-results/unweighted_unifrac_pcoa_results.qza\u001b[0m\n",
      "\u001b[32mSaved PCoAResults to: core-metrics-results/weighted_unifrac_pcoa_results.qza\u001b[0m\n",
      "\u001b[32mSaved PCoAResults to: core-metrics-results/jaccard_pcoa_results.qza\u001b[0m\n",
      "\u001b[32mSaved PCoAResults to: core-metrics-results/bray_curtis_pcoa_results.qza\u001b[0m\n",
      "\u001b[32mSaved Visualization to: core-metrics-results/unweighted_unifrac_emperor.qzv\u001b[0m\n",
      "\u001b[32mSaved Visualization to: core-metrics-results/weighted_unifrac_emperor.qzv\u001b[0m\n",
      "\u001b[32mSaved Visualization to: core-metrics-results/jaccard_emperor.qzv\u001b[0m\n",
      "\u001b[32mSaved Visualization to: core-metrics-results/bray_curtis_emperor.qzv\u001b[0m\n",
      "(qiime2-2020.2) "
     ]
    },
    {
     "ename": "",
     "evalue": "1",
     "output_type": "error",
     "traceback": []
    }
   ],
   "source": [
    "qiime diversity core-metrics-phylogenetic \\\n",
    "  --i-phylogeny taxonomic_phylogenetic/rooted-tree.qza \\\n",
    "  --i-table denoise_dada2/table.qza \\\n",
    "  --p-sampling-depth 10000 \\\n",
    "  --m-metadata-file metadata.tsv \\\n",
    "  --output-dir core-metrics-results"
   ]
  },
  {
   "cell_type": "markdown",
   "metadata": {},
   "source": [
    "After computing diversity metrics, explore the microbial composition of the samples in the context of the sample metadata. This information is present in the sample metadata file.\n",
    "\n",
    "First, test for associations between **categorical metadata** columns and alpha diversity data. Do that here for the Faith Phylogenetic Diversity (a measure of community richness) and evenness metrics:"
   ]
  },
  {
   "cell_type": "code",
   "execution_count": 5,
   "metadata": {
    "scrolled": true
   },
   "outputs": [
    {
     "name": "stdout",
     "output_type": "stream",
     "text": [
      "\u001b[32mSaved Visualization to: core-metrics-results/observed_otus-group-significance.qzv\u001b[0m\n",
      "(qiime2-2020.2) (qiime2-2020.2) \u001b[32mSaved Visualization to: core-metrics-results/shannon-group-significance.qzv\u001b[0m\n",
      "(qiime2-2020.2) (qiime2-2020.2) \u001b[32mSaved Visualization to: core-metrics-results/faith-pd-group-significance.qzv\u001b[0m\n",
      "(qiime2-2020.2) (qiime2-2020.2) \u001b[32mSaved Visualization to: core-metrics-results/evenness-group-significance.qzv\u001b[0m\n",
      "(qiime2-2020.2) "
     ]
    },
    {
     "ename": "",
     "evalue": "1",
     "output_type": "error",
     "traceback": []
    }
   ],
   "source": [
    "qiime diversity alpha-group-significance \\\n",
    "  --i-alpha-diversity core-metrics-results/observed_otus_vector.qza \\\n",
    "  --m-metadata-file metadata.tsv \\\n",
    "  --o-visualization core-metrics-results/observed_otus-group-significance.qzv\n",
    "\n",
    "qiime diversity alpha-group-significance \\\n",
    "  --i-alpha-diversity core-metrics-results/shannon_vector.qza \\\n",
    "  --m-metadata-file metadata.tsv \\\n",
    "  --o-visualization core-metrics-results/shannon-group-significance.qzv\n",
    "  \n",
    "qiime diversity alpha-group-significance \\\n",
    "  --i-alpha-diversity core-metrics-results/faith_pd_vector.qza \\\n",
    "  --m-metadata-file metadata.tsv \\\n",
    "  --o-visualization core-metrics-results/faith-pd-group-significance.qzv\n",
    "\n",
    "qiime diversity alpha-group-significance \\\n",
    "  --i-alpha-diversity core-metrics-results/evenness_vector.qza \\\n",
    "  --m-metadata-file metadata.tsv \\\n",
    "  --o-visualization core-metrics-results/evenness-group-significance.qzv"
   ]
  },
  {
   "cell_type": "markdown",
   "metadata": {},
   "source": [
    "Second, test for associations between **continuous metadata** columns and alpha diversity. It's possible to do the code below changing the alpha metric in `--i-alpha-diversity` and visualizing the results."
   ]
  },
  {
   "cell_type": "code",
   "execution_count": null,
   "metadata": {
    "scrolled": true
   },
   "outputs": [],
   "source": [
    "# qiime diversity alpha-correlation \\\n",
    "#     --i-alpha-diversity core-metrics-results/faith_pd_vector.qza \\\n",
    "#     --m-metadata-file metadata.tsv \\\n",
    "#     --p-method 'pearson' \\\n",
    "#     --o-visualization core-metrics-results/faith-pd-alpha-correlation.qzv"
   ]
  },
  {
   "cell_type": "markdown",
   "metadata": {},
   "source": [
    "Next, analyze sample composition in the context of **categorical metadata** using PERMANOVA using the beta-group-significance command. The following commands will test whether distances between samples within a group, such as samples from the same site-name, are more similar to each other then they are to samples from the other groups. \n",
    "\n",
    "If the `--p-pairwise` parameter is called, it will also perform pairwise tests that will allow to determine which specific pairs of groups differ from one another, if any. This command can be slow to run, especially when passing `--p-pairwise`, since it is based on permutation tests. \n",
    "\n",
    "For this example, run beta-group-significance on a specific columns of metadata, rather than all metadata columns to which it is applicable. Here, apply this to unweighted UniFrac distances, using the `transect-name` and `vegetation`."
   ]
  },
  {
   "cell_type": "code",
   "execution_count": 6,
   "metadata": {
    "scrolled": true
   },
   "outputs": [
    {
     "name": "stdout",
     "output_type": "stream",
     "text": [
      "\u001b[32mSaved Visualization to: core-metrics-results/unweighted-unifrac-SULFATE-significance.qzv\u001b[0m\n",
      "(qiime2-2020.2) (qiime2-2020.2) \u001b[32mSaved Visualization to: core-metrics-results/unweighted-unifrac-TEMPERATURE-significance.qzv\u001b[0m\n",
      "(qiime2-2020.2) (qiime2-2020.2) \u001b[32mSaved Visualization to: core-metrics-results/unweighted-unifrac-TIME-significance.qzv\u001b[0m\n",
      "(qiime2-2020.2) "
     ]
    },
    {
     "ename": "",
     "evalue": "1",
     "output_type": "error",
     "traceback": []
    }
   ],
   "source": [
    "qiime diversity beta-group-significance \\\n",
    "  --i-distance-matrix core-metrics-results/unweighted_unifrac_distance_matrix.qza \\\n",
    "  --m-metadata-file metadata.tsv \\\n",
    "  --m-metadata-column Sulfate \\\n",
    "  --o-visualization core-metrics-results/unweighted-unifrac-SULFATE-significance.qzv \\\n",
    "  --p-pairwise\n",
    "\n",
    "qiime diversity beta-group-significance \\\n",
    "  --i-distance-matrix core-metrics-results/unweighted_unifrac_distance_matrix.qza \\\n",
    "  --m-metadata-file metadata.tsv \\\n",
    "  --m-metadata-column Temperature \\\n",
    "  --o-visualization core-metrics-results/unweighted-unifrac-TEMPERATURE-significance.qzv \\\n",
    "  --p-pairwise\n",
    "  \n",
    "qiime diversity beta-group-significance \\\n",
    "  --i-distance-matrix core-metrics-results/unweighted_unifrac_distance_matrix.qza \\\n",
    "  --m-metadata-file metadata.tsv \\\n",
    "  --m-metadata-column Time \\\n",
    "  --o-visualization core-metrics-results/unweighted-unifrac-TIME-significance.qzv \\\n",
    "  --p-pairwise"
   ]
  },
  {
   "cell_type": "code",
   "execution_count": 7,
   "metadata": {},
   "outputs": [
    {
     "name": "stdout",
     "output_type": "stream",
     "text": [
      "\u001b[32mSaved Visualization to: core-metrics-results/weighted-unifrac-SULFATE-significance.qzv\u001b[0m\n",
      "(qiime2-2020.2) (qiime2-2020.2) \u001b[32mSaved Visualization to: core-metrics-results/weighted-unifrac-TEMPERATURE-significance.qzv\u001b[0m\n",
      "(qiime2-2020.2) (qiime2-2020.2) \u001b[32mSaved Visualization to: core-metrics-results/weighted-unifrac-TIME-significance.qzv\u001b[0m\n",
      "(qiime2-2020.2) "
     ]
    },
    {
     "ename": "",
     "evalue": "1",
     "output_type": "error",
     "traceback": []
    }
   ],
   "source": [
    "qiime diversity beta-group-significance \\\n",
    "  --i-distance-matrix core-metrics-results/weighted_unifrac_distance_matrix.qza \\\n",
    "  --m-metadata-file metadata.tsv \\\n",
    "  --m-metadata-column Sulfate \\\n",
    "  --o-visualization core-metrics-results/weighted-unifrac-SULFATE-significance.qzv \\\n",
    "  --p-pairwise\n",
    "\n",
    "qiime diversity beta-group-significance \\\n",
    "  --i-distance-matrix core-metrics-results/weighted_unifrac_distance_matrix.qza \\\n",
    "  --m-metadata-file metadata.tsv \\\n",
    "  --m-metadata-column Temperature \\\n",
    "  --o-visualization core-metrics-results/weighted-unifrac-TEMPERATURE-significance.qzv \\\n",
    "  --p-pairwise\n",
    "  \n",
    "qiime diversity beta-group-significance \\\n",
    "  --i-distance-matrix core-metrics-results/weighted_unifrac_distance_matrix.qza \\\n",
    "  --m-metadata-file metadata.tsv \\\n",
    "  --m-metadata-column Time \\\n",
    "  --o-visualization core-metrics-results/weighted-unifrac-TIME-significance.qzv \\\n",
    "  --p-pairwise"
   ]
  },
  {
   "cell_type": "code",
   "execution_count": 8,
   "metadata": {},
   "outputs": [
    {
     "name": "stdout",
     "output_type": "stream",
     "text": [
      "\u001b[32mSaved Visualization to: core-metrics-results/bray_curtis-SULFATE-significance.qzv\u001b[0m\n",
      "(qiime2-2020.2) (qiime2-2020.2) \u001b[32mSaved Visualization to: core-metrics-results/bray_curtis-TEMPERATURE-significance.qzv\u001b[0m\n",
      "(qiime2-2020.2) (qiime2-2020.2) \u001b[32mSaved Visualization to: core-metrics-results/bray_curtis-TIME-significance.qzv\u001b[0m\n",
      "(qiime2-2020.2) "
     ]
    },
    {
     "ename": "",
     "evalue": "1",
     "output_type": "error",
     "traceback": []
    }
   ],
   "source": [
    "qiime diversity beta-group-significance \\\n",
    "  --i-distance-matrix core-metrics-results/bray_curtis_distance_matrix.qza \\\n",
    "  --m-metadata-file metadata.tsv \\\n",
    "  --m-metadata-column Sulfate \\\n",
    "  --o-visualization core-metrics-results/bray_curtis-SULFATE-significance.qzv \\\n",
    "  --p-pairwise\n",
    "\n",
    "qiime diversity beta-group-significance \\\n",
    "  --i-distance-matrix core-metrics-results/bray_curtis_distance_matrix.qza \\\n",
    "  --m-metadata-file metadata.tsv \\\n",
    "  --m-metadata-column Temperature \\\n",
    "  --o-visualization core-metrics-results/bray_curtis-TEMPERATURE-significance.qzv \\\n",
    "  --p-pairwise\n",
    "  \n",
    "qiime diversity beta-group-significance \\\n",
    "  --i-distance-matrix core-metrics-results/bray_curtis_distance_matrix.qza \\\n",
    "  --m-metadata-file metadata.tsv \\\n",
    "  --m-metadata-column Time \\\n",
    "  --o-visualization core-metrics-results/bray_curtis-TIME-significance.qzv \\\n",
    "  --p-pairwise"
   ]
  },
  {
   "cell_type": "code",
   "execution_count": 9,
   "metadata": {},
   "outputs": [
    {
     "name": "stdout",
     "output_type": "stream",
     "text": [
      "\u001b[32mSaved Visualization to: core-metrics-results/jaccard-SULFATE-significance.qzv\u001b[0m\n",
      "(qiime2-2020.2) (qiime2-2020.2) \u001b[32mSaved Visualization to: core-metrics-results/jaccard-TEMPERATURE-significance.qzv\u001b[0m\n",
      "(qiime2-2020.2) (qiime2-2020.2) \u001b[32mSaved Visualization to: core-metrics-results/jaccard-TIME-significance.qzv\u001b[0m\n",
      "(qiime2-2020.2) "
     ]
    },
    {
     "ename": "",
     "evalue": "1",
     "output_type": "error",
     "traceback": []
    }
   ],
   "source": [
    "qiime diversity beta-group-significance \\\n",
    "  --i-distance-matrix core-metrics-results/jaccard_distance_matrix.qza \\\n",
    "  --m-metadata-file metadata.tsv \\\n",
    "  --m-metadata-column Sulfate \\\n",
    "  --o-visualization core-metrics-results/jaccard-SULFATE-significance.qzv \\\n",
    "  --p-pairwise\n",
    "\n",
    "qiime diversity beta-group-significance \\\n",
    "  --i-distance-matrix core-metrics-results/jaccard_distance_matrix.qza \\\n",
    "  --m-metadata-file metadata.tsv \\\n",
    "  --m-metadata-column Temperature \\\n",
    "  --o-visualization core-metrics-results/jaccard-TEMPERATURE-significance.qzv \\\n",
    "  --p-pairwise\n",
    "  \n",
    "qiime diversity beta-group-significance \\\n",
    "  --i-distance-matrix core-metrics-results/jaccard_distance_matrix.qza \\\n",
    "  --m-metadata-file metadata.tsv \\\n",
    "  --m-metadata-column Time \\\n",
    "  --o-visualization core-metrics-results/jaccard-TIME-significance.qzv \\\n",
    "  --p-pairwise"
   ]
  },
  {
   "cell_type": "markdown",
   "metadata": {},
   "source": [
    "For the **continuous metadata** correlation tests, you can use the `qiime metadata distance-matrix` in combination with `qiime diversity mantel` and `qiime diversity bioenv` commands."
   ]
  },
  {
   "cell_type": "markdown",
   "metadata": {},
   "source": [
    "### 2. Ordination\n",
    "\n",
    "Ordination is a popular approach for exploring microbial community composition in the context of sample metadata. Use the Emperor tool to explore principal coordinates (PCoA) plots in the context of sample metadata. \n",
    "\n",
    "Passing the optional parameter `--p-custom-axes` is very useful for exploring time series data. Emperor plots for unweighted UniFrac and Bray-Curtis are generating here, and the resulting plots will contain axes for principal coordinate 1, principal coordinate 2, and a third axis based on what passed in `--p-custom-axes`."
   ]
  },
  {
   "cell_type": "code",
   "execution_count": null,
   "metadata": {},
   "outputs": [],
   "source": [
    "# qiime emperor plot \\\n",
    "#   --i-pcoa core-metrics-results/unweighted_unifrac_pcoa_results.qza \\\n",
    "#   --m-metadata-file metadata.tsv \\\n",
    "#   --o-visualization core-metrics-results/unweighted-unifrac-emperor.qzv\n",
    "\n",
    "# qiime emperor plot \\\n",
    "#   --i-pcoa core-metrics-results/bray_curtis_pcoa_results.qza \\\n",
    "#   --m-metadata-file metadata.tsv \\\n",
    "#   --p-custom-axes Temperature \\\n",
    "#   --o-visualization core-metrics-results/bray-curtis-emperor-TEMPERATURE.qzv\n",
    "  \n",
    "# qiime emperor plot \\\n",
    "#   --i-pcoa core-metrics-results/bray_curtis_pcoa_results.qza \\\n",
    "#   --m-metadata-file metadata.tsv \\\n",
    "#   --p-custom-axes Time \\\n",
    "#   --o-visualization core-metrics-results/bray-curtis-emperor-TIME.qzv"
   ]
  },
  {
   "cell_type": "markdown",
   "metadata": {},
   "source": [
    "# 3. Differential abundance with ANCOM\n",
    "\n",
    "ANCOM can be applied to identify features that are differentially abundant (i.e. present in different abundances) across sample groups. As with any bioinformatics method, you should be aware of the assumptions and limitations of ANCOM before using it (check the paper: https://pubmed.ncbi.nlm.nih.gov/26028277/).\n",
    "\n",
    "ANCOM is implemented in the `q2-composition plugin`. ANCOM assumes that few (less than about 25%) of the features are changing between groups. If you expect that more features are changing between your groups, you should not use ANCOM as it will be more error-prone (an increase in both Type I and Type II errors is possible). \n",
    "\n",
    "We’ll then apply ANCOM to determine which, if any, sequence variants and genera are differentially abundant across samples of our two subjects.\n",
    "\n",
    "We’ll start by creating a feature table that contains only the metadata of interest samples:"
   ]
  },
  {
   "cell_type": "code",
   "execution_count": 12,
   "metadata": {},
   "outputs": [
    {
     "name": "stdout",
     "output_type": "stream",
     "text": [
      "(qiime2-2020.2) "
     ]
    },
    {
     "ename": "",
     "evalue": "1",
     "output_type": "error",
     "traceback": []
    }
   ],
   "source": [
    "mkdir ancom-results"
   ]
  },
  {
   "cell_type": "code",
   "execution_count": 13,
   "metadata": {},
   "outputs": [
    {
     "name": "stdout",
     "output_type": "stream",
     "text": [
      "\u001b[32mSaved FeatureTable[Frequency] to: ancom-results/time-t1-table.qza\u001b[0m\n",
      "(qiime2-2020.2) "
     ]
    },
    {
     "ename": "",
     "evalue": "1",
     "output_type": "error",
     "traceback": []
    }
   ],
   "source": [
    "# qiime feature-table filter-samples \\\n",
    "#   --i-table denoise_dada2/table.qza \\\n",
    "#   --m-metadata-file metadata.tsv \\\n",
    "#   --p-where \"[Time]='T1'\" \\\n",
    "#   --o-filtered-table ancom-results/time-t1-table.qza"
   ]
  },
  {
   "cell_type": "markdown",
   "metadata": {},
   "source": [
    "ANCOM operates on a `FeatureTable[Composition]` QIIME2 artifact, which is based on frequencies of features on a per-sample basis, but cannot tolerate frequencies of zero. To build the composition artifact, a `FeatureTable[Frequency]` artifact must be provided to add-pseudocount (an imputation method), which will produce the `FeatureTable[Composition]` artifact:"
   ]
  },
  {
   "cell_type": "code",
   "execution_count": 14,
   "metadata": {},
   "outputs": [
    {
     "name": "stdout",
     "output_type": "stream",
     "text": [
      "\u001b[32mSaved FeatureTable[Composition] to: ancom-results/coda-time-t1-yes-table.qza\u001b[0m\n",
      "(qiime2-2020.2) "
     ]
    },
    {
     "ename": "",
     "evalue": "1",
     "output_type": "error",
     "traceback": []
    }
   ],
   "source": [
    "# qiime composition add-pseudocount \\\n",
    "#   --i-table ancom-results/time-t1-table.qza \\\n",
    "#   --o-composition-table ancom-results/coda-time-t1-yes-table.qza"
   ]
  },
  {
   "cell_type": "markdown",
   "metadata": {},
   "source": [
    "Run ANCOM on the subject column to determine what features differ in abundance across the Time=T1 samples of the Sulfate:"
   ]
  },
  {
   "cell_type": "code",
   "execution_count": 16,
   "metadata": {},
   "outputs": [
    {
     "name": "stdout",
     "output_type": "stream",
     "text": [
      "\r\n",
      "Aborted!\r\n",
      "(qiime2-2020.2) "
     ]
    }
   ],
   "source": [
    "# qiime composition ancom \\\n",
    "#   --i-table ancom-results/coda-time-t1-yes-table.qza \\\n",
    "#   --m-metadata-file metadata.tsv \\\n",
    "#   --m-metadata-column Sulfate \\\n",
    "#   --o-visualization ancom-results/time-t1-sulfate.qzv"
   ]
  },
  {
   "cell_type": "markdown",
   "metadata": {},
   "source": [
    "Done!"
   ]
  },
  {
   "cell_type": "code",
   "execution_count": 17,
   "metadata": {},
   "outputs": [
    {
     "name": "stdout",
     "output_type": "stream",
     "text": [
      "DeprecationWarning: 'source deactivate' is deprecated. Use 'conda deactivate'.\n"
     ]
    }
   ],
   "source": [
    "source deactivate qiime2-2020.2"
   ]
  },
  {
   "cell_type": "code",
   "execution_count": null,
   "metadata": {},
   "outputs": [],
   "source": []
  }
 ],
 "metadata": {
  "kernelspec": {
   "display_name": "Bash",
   "language": "bash",
   "name": "bash"
  },
  "language_info": {
   "codemirror_mode": "shell",
   "file_extension": ".sh",
   "mimetype": "text/x-sh",
   "name": "bash"
  }
 },
 "nbformat": 4,
 "nbformat_minor": 2
}
