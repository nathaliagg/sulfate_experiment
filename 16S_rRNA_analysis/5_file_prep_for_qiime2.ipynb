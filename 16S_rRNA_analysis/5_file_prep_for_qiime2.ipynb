{
 "cells": [
  {
   "cell_type": "markdown",
   "metadata": {},
   "source": [
    "# 07/04/2020\n",
    "\n",
    "Preparing the raw data for QIIME2.\n",
    "\n",
    "1. Metadata validation  \n",
    "2. Manifest file  "
   ]
  },
  {
   "cell_type": "code",
   "execution_count": 20,
   "metadata": {},
   "outputs": [],
   "source": [
    "import pandas as pd\n",
    "import numpy as np\n",
    "import glob, os"
   ]
  },
  {
   "cell_type": "code",
   "execution_count": 22,
   "metadata": {},
   "outputs": [
    {
     "name": "stdout",
     "output_type": "stream",
     "text": [
      "/xdisk/tfaily/mig2020/extra/nathaliagg/sulfate_experiment/microbial_16S\n"
     ]
    }
   ],
   "source": [
    "cd /xdisk/tfaily/mig2020/extra/nathaliagg/sulfate_experiment/microbial_16S/"
   ]
  },
  {
   "cell_type": "markdown",
   "metadata": {},
   "source": [
    "### 1. Metadata validation\n",
    "\n",
    "I validated metadata in `/Volumes/NGG_TFAILY_LAB_1/Methanogenesis/microbial/sequencing_data`, and uploaded here.\n",
    "\n",
    "The `fastq` files have sample names separated by `-`, and the metadata has those names separated by `_`."
   ]
  },
  {
   "cell_type": "code",
   "execution_count": 3,
   "metadata": {},
   "outputs": [
    {
     "name": "stdout",
     "output_type": "stream",
     "text": [
      "metadata.tsv  \u001b[0m\u001b[01;34mraw_data\u001b[0m/  raw_data.zip\r\n",
      "\u001b[m"
     ]
    }
   ],
   "source": [
    "ls"
   ]
  },
  {
   "cell_type": "code",
   "execution_count": 28,
   "metadata": {},
   "outputs": [
    {
     "data": {
      "text/html": [
       "<div>\n",
       "<style scoped>\n",
       "    .dataframe tbody tr th:only-of-type {\n",
       "        vertical-align: middle;\n",
       "    }\n",
       "\n",
       "    .dataframe tbody tr th {\n",
       "        vertical-align: top;\n",
       "    }\n",
       "\n",
       "    .dataframe thead th {\n",
       "        text-align: right;\n",
       "    }\n",
       "</style>\n",
       "<table border=\"1\" class=\"dataframe\">\n",
       "  <thead>\n",
       "    <tr style=\"text-align: right;\">\n",
       "      <th></th>\n",
       "      <th>SampleID</th>\n",
       "      <th>Temperature</th>\n",
       "      <th>Sulfate</th>\n",
       "      <th>Time</th>\n",
       "      <th>TechRep</th>\n",
       "    </tr>\n",
       "  </thead>\n",
       "  <tbody>\n",
       "    <tr>\n",
       "      <th>0</th>\n",
       "      <td>T04_C05_T6_RA</td>\n",
       "      <td>4°C</td>\n",
       "      <td>0.5 mM</td>\n",
       "      <td>T6</td>\n",
       "      <td>RA</td>\n",
       "    </tr>\n",
       "    <tr>\n",
       "      <th>1</th>\n",
       "      <td>T04_C05_T6_RB</td>\n",
       "      <td>4°C</td>\n",
       "      <td>0.5 mM</td>\n",
       "      <td>T6</td>\n",
       "      <td>RB</td>\n",
       "    </tr>\n",
       "    <tr>\n",
       "      <th>2</th>\n",
       "      <td>T04_C05_T4_RA</td>\n",
       "      <td>4°C</td>\n",
       "      <td>0.5 mM</td>\n",
       "      <td>T4</td>\n",
       "      <td>RA</td>\n",
       "    </tr>\n",
       "    <tr>\n",
       "      <th>3</th>\n",
       "      <td>T04_C05_T4_RB</td>\n",
       "      <td>4°C</td>\n",
       "      <td>0.5 mM</td>\n",
       "      <td>T4</td>\n",
       "      <td>RB</td>\n",
       "    </tr>\n",
       "    <tr>\n",
       "      <th>4</th>\n",
       "      <td>T04_C05_T1_RA</td>\n",
       "      <td>4°C</td>\n",
       "      <td>0.5 mM</td>\n",
       "      <td>T1</td>\n",
       "      <td>RA</td>\n",
       "    </tr>\n",
       "  </tbody>\n",
       "</table>\n",
       "</div>"
      ],
      "text/plain": [
       "        SampleID Temperature Sulfate Time TechRep\n",
       "0  T04_C05_T6_RA         4°C  0.5 mM   T6      RA\n",
       "1  T04_C05_T6_RB         4°C  0.5 mM   T6      RB\n",
       "2  T04_C05_T4_RA         4°C  0.5 mM   T4      RA\n",
       "3  T04_C05_T4_RB         4°C  0.5 mM   T4      RB\n",
       "4  T04_C05_T1_RA         4°C  0.5 mM   T1      RA"
      ]
     },
     "execution_count": 28,
     "metadata": {},
     "output_type": "execute_result"
    }
   ],
   "source": [
    "# Import metadata file \n",
    "metadf = pd.read_csv(\"o_metadata.tsv\", sep=\"\\t\")\n",
    "metadf.head()"
   ]
  },
  {
   "cell_type": "code",
   "execution_count": 29,
   "metadata": {},
   "outputs": [],
   "source": [
    "metadf['SampleID'] = metadf['SampleID'].replace('_','-', regex=True)"
   ]
  },
  {
   "cell_type": "code",
   "execution_count": 31,
   "metadata": {},
   "outputs": [
    {
     "data": {
      "text/html": [
       "<div>\n",
       "<style scoped>\n",
       "    .dataframe tbody tr th:only-of-type {\n",
       "        vertical-align: middle;\n",
       "    }\n",
       "\n",
       "    .dataframe tbody tr th {\n",
       "        vertical-align: top;\n",
       "    }\n",
       "\n",
       "    .dataframe thead th {\n",
       "        text-align: right;\n",
       "    }\n",
       "</style>\n",
       "<table border=\"1\" class=\"dataframe\">\n",
       "  <thead>\n",
       "    <tr style=\"text-align: right;\">\n",
       "      <th></th>\n",
       "      <th>SampleID</th>\n",
       "      <th>Temperature</th>\n",
       "      <th>Sulfate</th>\n",
       "      <th>Time</th>\n",
       "      <th>TechRep</th>\n",
       "    </tr>\n",
       "  </thead>\n",
       "  <tbody>\n",
       "    <tr>\n",
       "      <th>0</th>\n",
       "      <td>T04-C05-T6-RA</td>\n",
       "      <td>4°C</td>\n",
       "      <td>0.5 mM</td>\n",
       "      <td>T6</td>\n",
       "      <td>RA</td>\n",
       "    </tr>\n",
       "    <tr>\n",
       "      <th>1</th>\n",
       "      <td>T04-C05-T6-RB</td>\n",
       "      <td>4°C</td>\n",
       "      <td>0.5 mM</td>\n",
       "      <td>T6</td>\n",
       "      <td>RB</td>\n",
       "    </tr>\n",
       "    <tr>\n",
       "      <th>2</th>\n",
       "      <td>T04-C05-T4-RA</td>\n",
       "      <td>4°C</td>\n",
       "      <td>0.5 mM</td>\n",
       "      <td>T4</td>\n",
       "      <td>RA</td>\n",
       "    </tr>\n",
       "    <tr>\n",
       "      <th>3</th>\n",
       "      <td>T04-C05-T4-RB</td>\n",
       "      <td>4°C</td>\n",
       "      <td>0.5 mM</td>\n",
       "      <td>T4</td>\n",
       "      <td>RB</td>\n",
       "    </tr>\n",
       "    <tr>\n",
       "      <th>4</th>\n",
       "      <td>T04-C05-T1-RA</td>\n",
       "      <td>4°C</td>\n",
       "      <td>0.5 mM</td>\n",
       "      <td>T1</td>\n",
       "      <td>RA</td>\n",
       "    </tr>\n",
       "  </tbody>\n",
       "</table>\n",
       "</div>"
      ],
      "text/plain": [
       "        SampleID Temperature Sulfate Time TechRep\n",
       "0  T04-C05-T6-RA         4°C  0.5 mM   T6      RA\n",
       "1  T04-C05-T6-RB         4°C  0.5 mM   T6      RB\n",
       "2  T04-C05-T4-RA         4°C  0.5 mM   T4      RA\n",
       "3  T04-C05-T4-RB         4°C  0.5 mM   T4      RB\n",
       "4  T04-C05-T1-RA         4°C  0.5 mM   T1      RA"
      ]
     },
     "execution_count": 31,
     "metadata": {},
     "output_type": "execute_result"
    }
   ],
   "source": [
    "metadf.head()"
   ]
  },
  {
   "cell_type": "code",
   "execution_count": 32,
   "metadata": {},
   "outputs": [],
   "source": [
    "metadf.to_csv('metadata.tsv', sep=\"\\t\", index=False)"
   ]
  },
  {
   "cell_type": "markdown",
   "metadata": {},
   "source": [
    "### 2. Manifest file\n",
    "\n",
    "A “manifest file” maps sample identifiers to fastq.gz or fastq absolute filepaths. The manifest file also indicates the direction of the reads in each fastq.gz or fastq file.\n",
    "\n",
    "The manifest file is a tab-seperated (i.e., .tsv) text file. The first column defines the Sample ID, while the second (and optional third) column defines the absolute filepath to the forward (and optional reverse) reads. "
   ]
  },
  {
   "cell_type": "code",
   "execution_count": 34,
   "metadata": {
    "scrolled": true
   },
   "outputs": [
    {
     "data": {
      "text/plain": [
       "90"
      ]
     },
     "execution_count": 34,
     "metadata": {},
     "output_type": "execute_result"
    }
   ],
   "source": [
    "sampleid_new = metadf.reset_index()['SampleID'].to_list()\n",
    "len(sampleid_new)"
   ]
  },
  {
   "cell_type": "code",
   "execution_count": 35,
   "metadata": {},
   "outputs": [
    {
     "data": {
      "text/plain": [
       "'T04-C05-T6-RB'"
      ]
     },
     "execution_count": 35,
     "metadata": {},
     "output_type": "execute_result"
    }
   ],
   "source": [
    "sampleid_new[1]"
   ]
  },
  {
   "cell_type": "markdown",
   "metadata": {},
   "source": [
    "Remeber to set $DATADIR to \"/xdisk/tfaily/mig2020/extra/nathaliagg/sulfate_experiment/microbial_16S/raw_data\""
   ]
  },
  {
   "cell_type": "code",
   "execution_count": 36,
   "metadata": {},
   "outputs": [
    {
     "name": "stdout",
     "output_type": "stream",
     "text": [
      "/xdisk/tfaily/mig2020/extra/nathaliagg/sulfate_experiment/microbial_16S/raw_data\n"
     ]
    }
   ],
   "source": [
    "cd raw_data"
   ]
  },
  {
   "cell_type": "code",
   "execution_count": 37,
   "metadata": {},
   "outputs": [
    {
     "name": "stdout",
     "output_type": "stream",
     "text": [
      "90 90\n"
     ]
    }
   ],
   "source": [
    "files_forward = glob.glob(\"R1/*.fastq.gz\")\n",
    "files_reverse = glob.glob(\"R2/*.fastq.gz\")\n",
    "\n",
    "print(len(files_forward), len(files_reverse))"
   ]
  },
  {
   "cell_type": "code",
   "execution_count": 38,
   "metadata": {},
   "outputs": [
    {
     "data": {
      "text/plain": [
       "'R1/T04-C05-T1-RA_S5_L001_R1_001.fastq.gz'"
      ]
     },
     "execution_count": 38,
     "metadata": {},
     "output_type": "execute_result"
    }
   ],
   "source": [
    "files_forward[1]"
   ]
  },
  {
   "cell_type": "code",
   "execution_count": 39,
   "metadata": {},
   "outputs": [],
   "source": [
    "path_f_files = []\n",
    "path_r_files = []\n",
    "\n",
    "for s in sampleid_new:\n",
    "    for file in files_forward:\n",
    "        if file.split('/')[1].startswith(s):\n",
    "            path_f_files.append(\"$DATADIR/\"+file)\n",
    "            \n",
    "for s in sampleid_new:\n",
    "    for file in files_reverse:\n",
    "        if file.split('/')[1].startswith(s):\n",
    "            path_r_files.append(\"$DATADIR/\"+file)"
   ]
  },
  {
   "cell_type": "code",
   "execution_count": 41,
   "metadata": {},
   "outputs": [
    {
     "data": {
      "text/plain": [
       "'$DATADIR/R1/T04-C05-T6-RB_S2_L001_R1_001.fastq.gz'"
      ]
     },
     "execution_count": 41,
     "metadata": {},
     "output_type": "execute_result"
    }
   ],
   "source": [
    "path_f_files[1]"
   ]
  },
  {
   "cell_type": "code",
   "execution_count": 42,
   "metadata": {},
   "outputs": [
    {
     "data": {
      "text/html": [
       "<div>\n",
       "<style scoped>\n",
       "    .dataframe tbody tr th:only-of-type {\n",
       "        vertical-align: middle;\n",
       "    }\n",
       "\n",
       "    .dataframe tbody tr th {\n",
       "        vertical-align: top;\n",
       "    }\n",
       "\n",
       "    .dataframe thead th {\n",
       "        text-align: right;\n",
       "    }\n",
       "</style>\n",
       "<table border=\"1\" class=\"dataframe\">\n",
       "  <thead>\n",
       "    <tr style=\"text-align: right;\">\n",
       "      <th></th>\n",
       "      <th>SampleID</th>\n",
       "      <th>forward-absolute-filepath</th>\n",
       "      <th>reverse-absolute-filepath</th>\n",
       "    </tr>\n",
       "  </thead>\n",
       "  <tbody>\n",
       "    <tr>\n",
       "      <th>0</th>\n",
       "      <td>T04-C05-T6-RA</td>\n",
       "      <td>$DATADIR/R1/T04-C05-T6-RA_S1_L001_R1_001.fastq.gz</td>\n",
       "      <td>$DATADIR/R2/T04-C05-T6-RA_S1_L001_R2_001.fastq.gz</td>\n",
       "    </tr>\n",
       "    <tr>\n",
       "      <th>1</th>\n",
       "      <td>T04-C05-T6-RB</td>\n",
       "      <td>$DATADIR/R1/T04-C05-T6-RB_S2_L001_R1_001.fastq.gz</td>\n",
       "      <td>$DATADIR/R2/T04-C05-T6-RB_S2_L001_R2_001.fastq.gz</td>\n",
       "    </tr>\n",
       "    <tr>\n",
       "      <th>2</th>\n",
       "      <td>T04-C05-T4-RA</td>\n",
       "      <td>$DATADIR/R1/T04-C05-T4-RA_S3_L001_R1_001.fastq.gz</td>\n",
       "      <td>$DATADIR/R2/T04-C05-T4-RA_S3_L001_R2_001.fastq.gz</td>\n",
       "    </tr>\n",
       "    <tr>\n",
       "      <th>3</th>\n",
       "      <td>T04-C05-T4-RB</td>\n",
       "      <td>$DATADIR/R1/T04-C05-T4-RB_S4_L001_R1_001.fastq.gz</td>\n",
       "      <td>$DATADIR/R2/T04-C05-T4-RB_S4_L001_R2_001.fastq.gz</td>\n",
       "    </tr>\n",
       "    <tr>\n",
       "      <th>4</th>\n",
       "      <td>T04-C05-T1-RA</td>\n",
       "      <td>$DATADIR/R1/T04-C05-T1-RA_S5_L001_R1_001.fastq.gz</td>\n",
       "      <td>$DATADIR/R2/T04-C05-T1-RA_S5_L001_R2_001.fastq.gz</td>\n",
       "    </tr>\n",
       "  </tbody>\n",
       "</table>\n",
       "</div>"
      ],
      "text/plain": [
       "        SampleID                          forward-absolute-filepath  \\\n",
       "0  T04-C05-T6-RA  $DATADIR/R1/T04-C05-T6-RA_S1_L001_R1_001.fastq.gz   \n",
       "1  T04-C05-T6-RB  $DATADIR/R1/T04-C05-T6-RB_S2_L001_R1_001.fastq.gz   \n",
       "2  T04-C05-T4-RA  $DATADIR/R1/T04-C05-T4-RA_S3_L001_R1_001.fastq.gz   \n",
       "3  T04-C05-T4-RB  $DATADIR/R1/T04-C05-T4-RB_S4_L001_R1_001.fastq.gz   \n",
       "4  T04-C05-T1-RA  $DATADIR/R1/T04-C05-T1-RA_S5_L001_R1_001.fastq.gz   \n",
       "\n",
       "                           reverse-absolute-filepath  \n",
       "0  $DATADIR/R2/T04-C05-T6-RA_S1_L001_R2_001.fastq.gz  \n",
       "1  $DATADIR/R2/T04-C05-T6-RB_S2_L001_R2_001.fastq.gz  \n",
       "2  $DATADIR/R2/T04-C05-T4-RA_S3_L001_R2_001.fastq.gz  \n",
       "3  $DATADIR/R2/T04-C05-T4-RB_S4_L001_R2_001.fastq.gz  \n",
       "4  $DATADIR/R2/T04-C05-T1-RA_S5_L001_R2_001.fastq.gz  "
      ]
     },
     "execution_count": 42,
     "metadata": {},
     "output_type": "execute_result"
    }
   ],
   "source": [
    "manifest = pd.DataFrame()\n",
    "manifest['SampleID'] = sampleid_new\n",
    "manifest['forward-absolute-filepath'] = path_f_files\n",
    "manifest['reverse-absolute-filepath'] = path_r_files\n",
    "manifest.head()"
   ]
  },
  {
   "cell_type": "code",
   "execution_count": 43,
   "metadata": {},
   "outputs": [],
   "source": [
    "manifest.to_csv('manifest.tsv', index=False, sep='\\t')"
   ]
  },
  {
   "cell_type": "markdown",
   "metadata": {},
   "source": [
    "Done!"
   ]
  }
 ],
 "metadata": {
  "kernelspec": {
   "display_name": "Python 3",
   "language": "python",
   "name": "python3"
  },
  "language_info": {
   "codemirror_mode": {
    "name": "ipython",
    "version": 3
   },
   "file_extension": ".py",
   "mimetype": "text/x-python",
   "name": "python",
   "nbconvert_exporter": "python",
   "pygments_lexer": "ipython3",
   "version": "3.5.5"
  }
 },
 "nbformat": 4,
 "nbformat_minor": 2
}
