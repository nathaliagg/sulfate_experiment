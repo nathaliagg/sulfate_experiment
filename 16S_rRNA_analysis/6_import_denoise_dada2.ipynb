{
 "cells": [
  {
   "cell_type": "markdown",
   "metadata": {},
   "source": [
    "# 07/04/2020\n",
    "\n",
    "Source: https://docs.qiime2.org/2020.2/tutorials/importing/#pairedendfastqmanifestphred33v2, and \n",
    "https://docs.qiime2.org/2020.2/tutorials/atacama-soils/#paired-end-read-analysis-commands\n",
    "\n",
    "1. Import data \n",
    "2. Denoise with DADA2\n",
    "\n",
    "Note: don't neet to demultiplex"
   ]
  },
  {
   "cell_type": "code",
   "execution_count": 1,
   "metadata": {},
   "outputs": [],
   "source": [
    "cd /xdisk/tfaily/mig2020/extra/nathaliagg/sulfate_experiment/microbial_16S/"
   ]
  },
  {
   "cell_type": "code",
   "execution_count": 2,
   "metadata": {},
   "outputs": [],
   "source": [
    "mkdir qiime2"
   ]
  },
  {
   "cell_type": "code",
   "execution_count": 3,
   "metadata": {},
   "outputs": [],
   "source": [
    "cd qiime2"
   ]
  },
  {
   "cell_type": "code",
   "execution_count": 6,
   "metadata": {},
   "outputs": [
    {
     "name": "stdout",
     "output_type": "stream",
     "text": [
      "/xdisk/tfaily/mig2020/extra/nathaliagg/sulfate_experiment/microbial_16S/qiime2\n"
     ]
    }
   ],
   "source": [
    "pwd"
   ]
  },
  {
   "cell_type": "code",
   "execution_count": 4,
   "metadata": {},
   "outputs": [],
   "source": [
    "cp ../raw_data/manifest.tsv ."
   ]
  },
  {
   "cell_type": "code",
   "execution_count": 5,
   "metadata": {},
   "outputs": [],
   "source": [
    "cp ../metadata.tsv ."
   ]
  },
  {
   "cell_type": "markdown",
   "metadata": {},
   "source": [
    "### Load module and activate conda environment"
   ]
  },
  {
   "cell_type": "code",
   "execution_count": 7,
   "metadata": {},
   "outputs": [
    {
     "name": "stdout",
     "output_type": "stream",
     "text": [
      "WARNING: $PATH does not agree with $PATH_modshare counter. The following directories' usage counters were adjusted to match. Note that this may mean that module unloading may not work correctly.\n",
      " /cm/local/apps/environment-modules/4.0.0//bin /cm/shared/uaapps/pbspro/19.2.4/sbin /cm/shared/uaapps/pbspro/19.2.4/bin\n",
      "WARNING: $MANPATH does not agree with $MANPATH_modshare counter. The following directories' usage counters were adjusted to match. Note that this may mean that module unloading may not work correctly.\n",
      " /cm/shared/uaapps/pbspro/19.2.4/share/man\n"
     ]
    }
   ],
   "source": [
    "module load anaconda/2020/2020.02"
   ]
  },
  {
   "cell_type": "code",
   "execution_count": 8,
   "metadata": {},
   "outputs": [
    {
     "name": "stdout",
     "output_type": "stream",
     "text": [
      "(qiime2-2020.2) "
     ]
    },
    {
     "ename": "",
     "evalue": "1",
     "output_type": "error",
     "traceback": []
    }
   ],
   "source": [
    "source activate qiime2-2020.2"
   ]
  },
  {
   "cell_type": "markdown",
   "metadata": {},
   "source": [
    "### 1. Import data\n",
    "\n",
    "The sequences are importedd into an artifact of type `SampleData[PairedEndSequencesWithQuality]`, and format `PairedEndFastqManifestPhred33V2`."
   ]
  },
  {
   "cell_type": "code",
   "execution_count": 9,
   "metadata": {},
   "outputs": [
    {
     "name": "stdout",
     "output_type": "stream",
     "text": [
      "(qiime2-2020.2) "
     ]
    },
    {
     "ename": "",
     "evalue": "1",
     "output_type": "error",
     "traceback": []
    }
   ],
   "source": [
    "export DATADIR=\"/xdisk/tfaily/mig2020/extra/nathaliagg/sulfate_experiment/microbial_16S/raw_data\""
   ]
  },
  {
   "cell_type": "code",
   "execution_count": 10,
   "metadata": {},
   "outputs": [
    {
     "name": "stdout",
     "output_type": "stream",
     "text": [
      "\u001b[32mImported manifest.tsv as PairedEndFastqManifestPhred33V2 to paired-end-demux.qza\u001b[0m\n",
      "(qiime2-2020.2) "
     ]
    },
    {
     "ename": "",
     "evalue": "1",
     "output_type": "error",
     "traceback": []
    }
   ],
   "source": [
    "qiime tools import \\\n",
    "  --type 'SampleData[PairedEndSequencesWithQuality]' \\\n",
    "  --input-path manifest.tsv \\\n",
    "  --output-path paired-end-demux.qza \\\n",
    "  --input-format PairedEndFastqManifestPhred33V2"
   ]
  },
  {
   "cell_type": "markdown",
   "metadata": {},
   "source": [
    "Output artifact `paired-end-demux.qza`"
   ]
  },
  {
   "cell_type": "markdown",
   "metadata": {},
   "source": [
    "Since data is already demultiplexed, I can jump to generating a view summary of how many sequences were obtained per sample."
   ]
  },
  {
   "cell_type": "code",
   "execution_count": 11,
   "metadata": {},
   "outputs": [
    {
     "name": "stdout",
     "output_type": "stream",
     "text": [
      "\u001b[32mSaved Visualization to: demux.qzv\u001b[0m\n",
      "(qiime2-2020.2) "
     ]
    },
    {
     "ename": "",
     "evalue": "1",
     "output_type": "error",
     "traceback": []
    }
   ],
   "source": [
    "qiime demux summarize \\\n",
    "  --i-data paired-end-demux.qza \\\n",
    "  --o-visualization demux.qzv"
   ]
  },
  {
   "cell_type": "markdown",
   "metadata": {},
   "source": [
    "Output visualization `demux.qzv`\n",
    "\n",
    "Load `demuz.qzv` into `view.qiime2.org`. Look in the `Interactive Quality Plot` tab. These plots contain the quality scores for the forward and reverse sequences. I use these graphs to determine what trimming parameters to use for denoising with DADA2 (next step).\n",
    "\n",
    "These are 300-bp reads both forward and reverse (from MultiQC). The reads need to be long enough to overlap when joining paired ends. Usually, the first and the end few base pairs need to be trimmed. I alread trimmed the reads with trimmomatic, but it is possible to see that in the `Interactive Quality Plot` the quality towards the end of the sequences are low. \n",
    "\n",
    "I'll include 280 as truncated lengths for an extra trim."
   ]
  },
  {
   "cell_type": "markdown",
   "metadata": {},
   "source": [
    "### 3. Denoise with DADA2"
   ]
  },
  {
   "cell_type": "code",
   "execution_count": 12,
   "metadata": {
    "collapsed": true
   },
   "outputs": [
    {
     "name": "stdout",
     "output_type": "stream",
     "text": [
      "Usage: \u001b[34mqiime dada2 denoise-paired\u001b[0m [OPTIONS]\n",
      "\n",
      "  This method denoises paired-end sequences, dereplicates them, and filters\n",
      "  chimeras.\n",
      "\n",
      "\u001b[1mInputs\u001b[0m:\n",
      "  \u001b[34m\u001b[4m--i-demultiplexed-seqs\u001b[0m ARTIFACT \u001b[32mSampleData[PairedEndSequencesWithQuality]\u001b[0m\n",
      "                         The paired-end demultiplexed sequences to be\n",
      "                         denoised.                                  \u001b[35m[required]\u001b[0m\n",
      "\u001b[1mParameters\u001b[0m:\n",
      "  \u001b[34m\u001b[4m--p-trunc-len-f\u001b[0m INTEGER\n",
      "                         Position at which forward read sequences should be\n",
      "                         truncated due to decrease in quality. This truncates\n",
      "                         the 3' end of the of the input sequences, which will\n",
      "                         be the bases that were sequenced in the last cycles.\n",
      "                         Reads that are shorter than this value will be\n",
      "                         discarded. After this parameter is applied there must\n",
      "                         still be at least a 12 nucleotide overlap between the\n",
      "                         forward and reverse reads. If 0 is provided, no\n",
      "                         truncation or length filtering will be performed\n",
      "                                                                    \u001b[35m[required]\u001b[0m\n",
      "  \u001b[34m\u001b[4m--p-trunc-len-r\u001b[0m INTEGER\n",
      "                         Position at which reverse read sequences should be\n",
      "                         truncated due to decrease in quality. This truncates\n",
      "                         the 3' end of the of the input sequences, which will\n",
      "                         be the bases that were sequenced in the last cycles.\n",
      "                         Reads that are shorter than this value will be\n",
      "                         discarded. After this parameter is applied there must\n",
      "                         still be at least a 12 nucleotide overlap between the\n",
      "                         forward and reverse reads. If 0 is provided, no\n",
      "                         truncation or length filtering will be performed\n",
      "                                                                    \u001b[35m[required]\u001b[0m\n",
      "  \u001b[34m--p-trim-left-f\u001b[0m INTEGER\n",
      "                         Position at which forward read sequences should be\n",
      "                         trimmed due to low quality. This trims the 5' end of\n",
      "                         the input sequences, which will be the bases that\n",
      "                         were sequenced in the first cycles.      \u001b[35m[default: 0]\u001b[0m\n",
      "  \u001b[34m--p-trim-left-r\u001b[0m INTEGER\n",
      "                         Position at which reverse read sequences should be\n",
      "                         trimmed due to low quality. This trims the 5' end of\n",
      "                         the input sequences, which will be the bases that\n",
      "                         were sequenced in the first cycles.      \u001b[35m[default: 0]\u001b[0m\n",
      "  \u001b[34m--p-max-ee-f\u001b[0m NUMBER    Forward reads with number of expected errors higher\n",
      "                         than this value will be discarded.     \u001b[35m[default: 2.0]\u001b[0m\n",
      "  \u001b[34m--p-max-ee-r\u001b[0m NUMBER    Reverse reads with number of expected errors higher\n",
      "                         than this value will be discarded.     \u001b[35m[default: 2.0]\u001b[0m\n",
      "  \u001b[34m--p-trunc-q\u001b[0m INTEGER    Reads are truncated at the first instance of a\n",
      "                         quality score less than or equal to this value. If\n",
      "                         the resulting read is then shorter than `\u001b[4mtrunc-len-f\u001b[0m`\n",
      "                         or `\u001b[4mtrunc-len-r\u001b[0m` (depending on the direction of the\n",
      "                         read) it is discarded.                   \u001b[35m[default: 2]\u001b[0m\n",
      "  \u001b[34m--p-chimera-method\u001b[0m TEXT \u001b[32mChoices('consensus', 'pooled', 'none')\u001b[0m\n",
      "                         The method used to remove chimeras. \"none\": No\n",
      "                         chimera removal is performed. \"pooled\": All reads are\n",
      "                         pooled prior to chimera detection. \"consensus\":\n",
      "                         Chimeras are detected in samples individually, and\n",
      "                         sequences found chimeric in a sufficient fraction of\n",
      "                         samples are removed.           \u001b[35m[default: 'consensus']\u001b[0m\n",
      "  \u001b[34m--p-min-fold-parent-over-abundance\u001b[0m NUMBER\n",
      "                         The minimum abundance of potential parents of a\n",
      "                         sequence being tested as chimeric, expressed as a\n",
      "                         fold-change versus the abundance of the sequence\n",
      "                         being tested. Values should be greater than or equal\n",
      "                         to 1 (i.e. parents should be more abundant than the\n",
      "                         sequence being tested). This parameter has no effect\n",
      "                         if \u001b[4mchimera-method\u001b[0m is \"none\".           \u001b[35m[default: 1.0]\u001b[0m\n",
      "  \u001b[34m--p-n-threads\u001b[0m INTEGER  The number of threads to use for multithreaded\n",
      "                         processing. If 0 is provided, all available cores\n",
      "                         will be used.                            \u001b[35m[default: 1]\u001b[0m\n",
      "  \u001b[34m--p-n-reads-learn\u001b[0m INTEGER\n",
      "                         The number of reads to use when training the error\n",
      "                         model. Smaller numbers will result in a shorter run\n",
      "                         time but a less reliable error model.\n",
      "                                                            \u001b[35m[default: 1000000]\u001b[0m\n",
      "  \u001b[34m--p-hashed-feature-ids\u001b[0m / \u001b[34m--p-no-hashed-feature-ids\u001b[0m\n",
      "                         If true, the feature ids in the resulting table will\n",
      "                         be presented as hashes of the sequences defining each\n",
      "                         feature. The hash will always be the same for the\n",
      "                         same sequence so this allows feature tables to be\n",
      "                         merged across runs of this method. You should only\n",
      "                         merge tables if the exact same parameters are used\n",
      "                         for each run.                         \u001b[35m[default: True]\u001b[0m\n",
      "\u001b[1mOutputs\u001b[0m:\n",
      "  \u001b[34m\u001b[4m--o-table\u001b[0m ARTIFACT \u001b[32mFeatureTable[Frequency]\u001b[0m\n",
      "                         The resulting feature table.               \u001b[35m[required]\u001b[0m\n",
      "  \u001b[34m\u001b[4m--o-representative-sequences\u001b[0m ARTIFACT \u001b[32mFeatureData[Sequence]\u001b[0m\n",
      "                         The resulting feature sequences. Each feature in the\n",
      "                         feature table will be represented by exactly one\n",
      "                         sequence, and these sequences will be the joined\n",
      "                         paired-end sequences.                      \u001b[35m[required]\u001b[0m\n",
      "  \u001b[34m\u001b[4m--o-denoising-stats\u001b[0m ARTIFACT \u001b[32mSampleData[DADA2Stats]\u001b[0m\n",
      "                                                                    \u001b[35m[required]\u001b[0m\n",
      "\u001b[1mMiscellaneous\u001b[0m:\n",
      "  \u001b[34m--output-dir\u001b[0m PATH      Output unspecified results to a directory\n",
      "  \u001b[34m--verbose\u001b[0m / \u001b[34m--quiet\u001b[0m    Display verbose output to stdout and/or stderr\n",
      "                         during execution of this action. Or silence output if\n",
      "                         execution is successful (silence is golden).\n",
      "  \u001b[34m--citations\u001b[0m            Show citations and exit.\n",
      "  \u001b[34m--help\u001b[0m                 Show this message and exit.\n",
      "(qiime2-2020.2) "
     ]
    },
    {
     "ename": "",
     "evalue": "1",
     "output_type": "error",
     "traceback": []
    }
   ],
   "source": [
    "qiime dada2 denoise-paired --help"
   ]
  },
  {
   "cell_type": "code",
   "execution_count": 16,
   "metadata": {},
   "outputs": [
    {
     "name": "stdout",
     "output_type": "stream",
     "text": [
      "(qiime2-2020.2) 04/07/2020 09:16:35\n",
      "(qiime2-2020.2) (qiime2-2020.2) \u001b[32mSaved FeatureTable[Frequency] to: table.qza\u001b[0m\n",
      "\u001b[32mSaved FeatureData[Sequence] to: rep-seqs.qza\u001b[0m\n",
      "\u001b[32mSaved SampleData[DADA2Stats] to: denoising-stats.qza\u001b[0m\n",
      "(qiime2-2020.2) (qiime2-2020.2) (qiime2-2020.2) 04/07/2020 12:02:24\n",
      "(qiime2-2020.2) "
     ]
    },
    {
     "ename": "",
     "evalue": "1",
     "output_type": "error",
     "traceback": []
    }
   ],
   "source": [
    "dt=$(date '+%d/%m/%Y %H:%M:%S');\n",
    "echo \"$dt\"\n",
    "\n",
    "qiime dada2 denoise-paired \\\n",
    "  --i-demultiplexed-seqs paired-end-demux.qza \\\n",
    "  --p-trunc-len-f 270 \\\n",
    "  --p-trunc-len-r 270 \\\n",
    "  --p-n-threads 25 \\\n",
    "  --output-dir denoise_dada2 \\\n",
    "  --o-table table.qza \\\n",
    "  --o-representative-sequences rep-seqs.qza \\\n",
    "  --o-denoising-stats denoising-stats.qza\n",
    "  \n",
    "dt=$(date '+%d/%m/%Y %H:%M:%S');\n",
    "echo \"$dt\""
   ]
  },
  {
   "cell_type": "markdown",
   "metadata": {},
   "source": [
    "Output artifacts `denoising-stats.qza`, `rep-seqs.qza`, and `table.qza`.\n",
    "\n",
    "But the results were not put in that directory...\n",
    "\n",
    "I'll manually move them:"
   ]
  },
  {
   "cell_type": "code",
   "execution_count": 17,
   "metadata": {},
   "outputs": [
    {
     "name": "stdout",
     "output_type": "stream",
     "text": [
      "(qiime2-2020.2) (qiime2-2020.2) (qiime2-2020.2) "
     ]
    },
    {
     "ename": "",
     "evalue": "1",
     "output_type": "error",
     "traceback": []
    }
   ],
   "source": [
    "mv denoising-stats.qza denoise_dada2/\n",
    "mv rep-seqs.qza denoise_dada2/\n",
    "mv table.qza denoise_dada2"
   ]
  },
  {
   "cell_type": "markdown",
   "metadata": {},
   "source": [
    "`denoising-stats.qza` contains denoising statistics. Generate visualization by running:"
   ]
  },
  {
   "cell_type": "code",
   "execution_count": 18,
   "metadata": {},
   "outputs": [
    {
     "name": "stdout",
     "output_type": "stream",
     "text": [
      "\u001b[32mSaved Visualization to: denoise_dada2/denoising-stats.qzv\u001b[0m\n",
      "(qiime2-2020.2) "
     ]
    },
    {
     "ename": "",
     "evalue": "1",
     "output_type": "error",
     "traceback": []
    }
   ],
   "source": [
    "qiime metadata tabulate \\\n",
    "  --m-input-file denoise_dada2/denoising-stats.qza \\\n",
    "  --o-visualization denoise_dada2/denoising-stats.qzv"
   ]
  },
  {
   "cell_type": "markdown",
   "metadata": {},
   "source": [
    "Output `denoising-stats.qzv` --> `view.qiime2.org`"
   ]
  },
  {
   "cell_type": "markdown",
   "metadata": {},
   "source": [
    "`table.qza` and `rep-seqs.qza` contain the feature table and corresponding feature sequences, respectively.\n",
    "\n",
    "Generate summaries and visualizations:"
   ]
  },
  {
   "cell_type": "code",
   "execution_count": 19,
   "metadata": {},
   "outputs": [
    {
     "name": "stdout",
     "output_type": "stream",
     "text": [
      "\u001b[32mSaved Visualization to: denoise_dada2/table.qzv\u001b[0m\n",
      "(qiime2-2020.2) (qiime2-2020.2) \u001b[32mSaved Visualization to: denoise_dada2/rep-seqs.qzv\u001b[0m\n",
      "(qiime2-2020.2) "
     ]
    },
    {
     "ename": "",
     "evalue": "1",
     "output_type": "error",
     "traceback": []
    }
   ],
   "source": [
    "qiime feature-table summarize \\\n",
    "  --i-table denoise_dada2/table.qza \\\n",
    "  --o-visualization denoise_dada2/table.qzv \\\n",
    "  --m-sample-metadata-file metadata.tsv\n",
    "\n",
    "qiime feature-table tabulate-seqs \\\n",
    "  --i-data denoise_dada2/rep-seqs.qza \\\n",
    "  --o-visualization denoise_dada2/rep-seqs.qzv"
   ]
  },
  {
   "cell_type": "markdown",
   "metadata": {},
   "source": [
    "Output visualizations: `table.qzv` and `rep-seqs.qzv` --> `view.qiime2.org`"
   ]
  },
  {
   "cell_type": "markdown",
   "metadata": {},
   "source": [
    "Ready for the next notebook!"
   ]
  },
  {
   "cell_type": "code",
   "execution_count": 20,
   "metadata": {},
   "outputs": [
    {
     "name": "stdout",
     "output_type": "stream",
     "text": [
      "DeprecationWarning: 'source deactivate' is deprecated. Use 'conda deactivate'.\n"
     ]
    }
   ],
   "source": [
    "source deactivate qiime2-2020.2"
   ]
  },
  {
   "cell_type": "code",
   "execution_count": null,
   "metadata": {},
   "outputs": [],
   "source": []
  }
 ],
 "metadata": {
  "kernelspec": {
   "display_name": "Bash",
   "language": "bash",
   "name": "bash"
  },
  "language_info": {
   "codemirror_mode": "shell",
   "file_extension": ".sh",
   "mimetype": "text/x-sh",
   "name": "bash"
  }
 },
 "nbformat": 4,
 "nbformat_minor": 2
}
