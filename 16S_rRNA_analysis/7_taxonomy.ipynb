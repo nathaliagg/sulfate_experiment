{
 "cells": [
  {
   "cell_type": "markdown",
   "metadata": {},
   "source": [
    "# 07/04/2020\n",
    "\n",
    "Source: https://docs.qiime2.org/2020.2/tutorials/moving-pictures/#taxonomic-analysis\n",
    "\n",
    "1. Taxonomic analysis   \n",
    "\n",
    "Source: https://docs.qiime2.org/2020.2/tutorials/moving-pictures/#generate-a-tree-for-phylogenetic-diversity-analyses\n",
    "\n",
    "2. Phylogenetic analysis  \n",
    "\n",
    "Source: https://docs.qiime2.org/2020.2/tutorials/moving-pictures/#alpha-rarefaction-plotting\n",
    "\n",
    "3. Alpha rarefaction "
   ]
  },
  {
   "cell_type": "code",
   "execution_count": 8,
   "metadata": {},
   "outputs": [],
   "source": [
    "cd /xdisk/tfaily/mig2020/extra/nathaliagg/sulfate_experiment/microbial_16S/qiime2"
   ]
  },
  {
   "cell_type": "markdown",
   "metadata": {},
   "source": [
    "### Load module and activate conda environment\n",
    "\n",
    "Disregard warnings."
   ]
  },
  {
   "cell_type": "code",
   "execution_count": 9,
   "metadata": {},
   "outputs": [],
   "source": [
    "module load anaconda/2020/2020.02"
   ]
  },
  {
   "cell_type": "code",
   "execution_count": 10,
   "metadata": {},
   "outputs": [
    {
     "name": "stdout",
     "output_type": "stream",
     "text": [
      "(qiime2-2020.2) "
     ]
    },
    {
     "ename": "",
     "evalue": "1",
     "output_type": "error",
     "traceback": []
    }
   ],
   "source": [
    "source activate qiime2-2020.2"
   ]
  },
  {
   "cell_type": "markdown",
   "metadata": {},
   "source": [
    "### 1. Taxonomic assignment\n",
    "\n",
    "These analysis are performed on the `rep-seqs.qza` or the `FeatureData[Sequence]` QIIME 2 artifact.\n",
    "\n",
    "Here, pre-trained Naïve Bayes classifier (pre-trained on the Greengenes 13_8 99% OTUs, where the sequences have been trimmed to only include 250 bases from the region of the 16S that was sequenced in this analysis, the the V4 region, bound by the 515F/806R primer pair) and the `q2-feature-classifier` plugin are used. Taxonomic classifiers perfom best when they are trained on specific sample preparation and sequencing parameters, including primers that were used for amplification and the length of sequencing reads."
   ]
  },
  {
   "cell_type": "markdown",
   "metadata": {},
   "source": [
    "#### Download the classifier"
   ]
  },
  {
   "cell_type": "code",
   "execution_count": 11,
   "metadata": {},
   "outputs": [
    {
     "name": "stdout",
     "output_type": "stream",
     "text": [
      "--2020-07-04 12:09:24--  https://data.qiime2.org/2020.2/common/gg-13-8-99-515-806-nb-classifier.qza\n",
      "Resolving data.qiime2.org... 52.35.38.247\n",
      "Connecting to data.qiime2.org|52.35.38.247|:443... connected.\n",
      "HTTP request sent, awaiting response... 302 FOUND\n",
      "Location: https://s3-us-west-2.amazonaws.com/qiime2-data/2020.2/common/gg-13-8-99-515-806-nb-classifier.qza [following]\n",
      "--2020-07-04 12:09:25--  https://s3-us-west-2.amazonaws.com/qiime2-data/2020.2/common/gg-13-8-99-515-806-nb-classifier.qza\n",
      "Resolving s3-us-west-2.amazonaws.com... 52.218.180.120\n",
      "Connecting to s3-us-west-2.amazonaws.com|52.218.180.120|:443... connected.\n",
      "HTTP request sent, awaiting response... 200 OK\n",
      "Length: 28373581 (27M) [application/x-www-form-urlencoded]\n",
      "Saving to: “gg-13-8-99-515-806-nb-classifier.qza”\n",
      "\n",
      "100%[======================================>] 28,373,581  4.46M/s   in 11s     \n",
      "\n",
      "2020-07-04 12:09:36 (2.51 MB/s) - “gg-13-8-99-515-806-nb-classifier.qza” saved [28373581/28373581]\n",
      "\n",
      "(qiime2-2020.2) "
     ]
    },
    {
     "ename": "",
     "evalue": "1",
     "output_type": "error",
     "traceback": []
    }
   ],
   "source": [
    "wget \\\n",
    "  -O \"gg-13-8-99-515-806-nb-classifier.qza\" \\\n",
    "  \"https://data.qiime2.org/2020.2/common/gg-13-8-99-515-806-nb-classifier.qza\""
   ]
  },
  {
   "cell_type": "markdown",
   "metadata": {},
   "source": [
    "#### Run the taxonomic analysis"
   ]
  },
  {
   "cell_type": "code",
   "execution_count": 12,
   "metadata": {},
   "outputs": [
    {
     "name": "stdout",
     "output_type": "stream",
     "text": [
      "(qiime2-2020.2) "
     ]
    },
    {
     "ename": "",
     "evalue": "1",
     "output_type": "error",
     "traceback": []
    }
   ],
   "source": [
    "# qiime feature-classifier --help"
   ]
  },
  {
   "cell_type": "code",
   "execution_count": 13,
   "metadata": {},
   "outputs": [
    {
     "name": "stdout",
     "output_type": "stream",
     "text": [
      "(qiime2-2020.2) "
     ]
    },
    {
     "ename": "",
     "evalue": "1",
     "output_type": "error",
     "traceback": []
    }
   ],
   "source": [
    "mkdir taxonomic_phylogenetic # only run once!"
   ]
  },
  {
   "cell_type": "code",
   "execution_count": 14,
   "metadata": {},
   "outputs": [
    {
     "name": "stdout",
     "output_type": "stream",
     "text": [
      "\u001b[32mSaved FeatureData[Taxonomy] to: taxonomic_phylogenetic/taxonomy.qza\u001b[0m\n",
      "(qiime2-2020.2) "
     ]
    },
    {
     "ename": "",
     "evalue": "1",
     "output_type": "error",
     "traceback": []
    }
   ],
   "source": [
    "qiime feature-classifier classify-sklearn \\\n",
    "  --i-classifier gg-13-8-99-515-806-nb-classifier.qza \\\n",
    "  --i-reads denoise_dada2/rep-seqs.qza \\\n",
    "  --o-classification taxonomic_phylogenetic/taxonomy.qza"
   ]
  },
  {
   "cell_type": "markdown",
   "metadata": {},
   "source": [
    "Output artifact: `taxonomy.qza`.\n",
    "\n",
    "Next, generate visualization."
   ]
  },
  {
   "cell_type": "code",
   "execution_count": 15,
   "metadata": {},
   "outputs": [
    {
     "name": "stdout",
     "output_type": "stream",
     "text": [
      "\u001b[32mSaved Visualization to: taxonomic_phylogenetic/taxonomy.qzv\u001b[0m\n",
      "(qiime2-2020.2) "
     ]
    },
    {
     "ename": "",
     "evalue": "1",
     "output_type": "error",
     "traceback": []
    }
   ],
   "source": [
    "qiime metadata tabulate \\\n",
    "  --m-input-file taxonomic_phylogenetic/taxonomy.qza \\\n",
    "  --o-visualization taxonomic_phylogenetic/taxonomy.qzv"
   ]
  },
  {
   "cell_type": "markdown",
   "metadata": {},
   "source": [
    "Output visualization: `taxonomy.qzv` --> `view.qiime2.org`\n",
    "\n",
    "Next, generate another visualization for the taxonomic composition of the samples:"
   ]
  },
  {
   "cell_type": "code",
   "execution_count": 16,
   "metadata": {},
   "outputs": [
    {
     "name": "stdout",
     "output_type": "stream",
     "text": [
      "\u001b[32mSaved Visualization to: taxonomic_phylogenetic/taxa-bar-plots.qzv\u001b[0m\n",
      "(qiime2-2020.2) "
     ]
    },
    {
     "ename": "",
     "evalue": "1",
     "output_type": "error",
     "traceback": []
    }
   ],
   "source": [
    "qiime taxa barplot \\\n",
    "  --i-table denoise_dada2/table.qza \\\n",
    "  --i-taxonomy taxonomic_phylogenetic/taxonomy.qza \\\n",
    "  --m-metadata-file metadata.tsv \\\n",
    "  --o-visualization taxonomic_phylogenetic/taxa-bar-plots.qzv"
   ]
  },
  {
   "cell_type": "markdown",
   "metadata": {},
   "source": [
    "#### Export taxonomic assignment results"
   ]
  },
  {
   "cell_type": "markdown",
   "metadata": {},
   "source": [
    "Export the `table.qza` and `taxonomy.qza` so more plots can be generated locally.\n",
    "\n",
    "This is a two-step process. \n",
    "\n",
    "First, export these data using `qiime tools export`, which will produce `.biom` files."
   ]
  },
  {
   "cell_type": "code",
   "execution_count": 17,
   "metadata": {},
   "outputs": [
    {
     "name": "stdout",
     "output_type": "stream",
     "text": [
      "\u001b[32mExported taxonomic_phylogenetic/taxonomy.qza as TSVTaxonomyDirectoryFormat to directory taxonomic_phylogenetic\u001b[0m\n",
      "(qiime2-2020.2) "
     ]
    },
    {
     "ename": "",
     "evalue": "1",
     "output_type": "error",
     "traceback": []
    }
   ],
   "source": [
    "qiime tools export \\\n",
    "  --input-path taxonomic_phylogenetic/taxonomy.qza \\\n",
    "  --output-path taxonomic_phylogenetic"
   ]
  },
  {
   "cell_type": "code",
   "execution_count": 18,
   "metadata": {},
   "outputs": [
    {
     "name": "stdout",
     "output_type": "stream",
     "text": [
      "\u001b[32mExported denoise_dada2/table.qza as BIOMV210DirFmt to directory taxonomic_phylogenetic\u001b[0m\n",
      "(qiime2-2020.2) "
     ]
    },
    {
     "ename": "",
     "evalue": "1",
     "output_type": "error",
     "traceback": []
    }
   ],
   "source": [
    "qiime tools export \\\n",
    "  --input-path denoise_dada2/table.qza \\\n",
    "  --output-path taxonomic_phylogenetic"
   ]
  },
  {
   "cell_type": "markdown",
   "metadata": {},
   "source": [
    "Second, convert `.biom` files to `.tsv`. This makes use of `biom convert`, which is implemented in QIIME2."
   ]
  },
  {
   "cell_type": "code",
   "execution_count": 19,
   "metadata": {},
   "outputs": [
    {
     "name": "stdout",
     "output_type": "stream",
     "text": [
      "(qiime2-2020.2) "
     ]
    },
    {
     "ename": "",
     "evalue": "1",
     "output_type": "error",
     "traceback": []
    }
   ],
   "source": [
    "biom convert -i taxonomic_phylogenetic/feature-table.biom -o taxonomic_phylogenetic/feature-table.tsv --to-tsv"
   ]
  },
  {
   "cell_type": "markdown",
   "metadata": {},
   "source": [
    "Apply filter to the feature axis to remove low abundance features from a table. For example, you can remove all features with a total abundance (summed across all samples) of less than 10 as follows.\n",
    "\n",
    "Then, export and biom convert like above."
   ]
  },
  {
   "cell_type": "code",
   "execution_count": 20,
   "metadata": {},
   "outputs": [
    {
     "name": "stdout",
     "output_type": "stream",
     "text": [
      "\u001b[32mSaved FeatureTable[Frequency] to: taxonomic_phylogenetic/feature-frequency-filtered-table.qza\u001b[0m\n",
      "(qiime2-2020.2) (qiime2-2020.2) \u001b[32mExported taxonomic_phylogenetic/feature-frequency-filtered-table.qza as BIOMV210DirFmt to directory taxonomic_phylogenetic\u001b[0m\n",
      "(qiime2-2020.2) (qiime2-2020.2) (qiime2-2020.2) "
     ]
    },
    {
     "ename": "",
     "evalue": "1",
     "output_type": "error",
     "traceback": []
    }
   ],
   "source": [
    "qiime feature-table filter-features \\\n",
    "  --i-table denoise_dada2/table.qza \\\n",
    "  --p-min-frequency 10 \\\n",
    "  --o-filtered-table taxonomic_phylogenetic/feature-frequency-filtered-table.qza\n",
    "  \n",
    "qiime tools export \\\n",
    "  --input-path taxonomic_phylogenetic/feature-frequency-filtered-table.qza \\\n",
    "  --output-path taxonomic_phylogenetic\n",
    "  \n",
    "biom convert -i taxonomic_phylogenetic/feature-table.biom -o taxonomic_phylogenetic/feature-frequency-filtered-table --to-tsv\n"
   ]
  },
  {
   "cell_type": "markdown",
   "metadata": {},
   "source": [
    "Those level files are inside this qzv. unizp -K to reveal them..."
   ]
  },
  {
   "cell_type": "code",
   "execution_count": 21,
   "metadata": {},
   "outputs": [
    {
     "name": "stdout",
     "output_type": "stream",
     "text": [
      "\u001b[32mSaved Visualization to: taxonomic_phylogenetic/taxa-bar-plots-filtered.qzv\u001b[0m\n",
      "(qiime2-2020.2) "
     ]
    },
    {
     "ename": "",
     "evalue": "1",
     "output_type": "error",
     "traceback": []
    }
   ],
   "source": [
    "qiime taxa barplot \\\n",
    "  --i-table taxonomic_phylogenetic/feature-frequency-filtered-table.qza \\\n",
    "  --i-taxonomy taxonomic_phylogenetic/taxonomy.qza \\\n",
    "  --m-metadata-file metadata.tsv \\\n",
    "  --o-visualization taxonomic_phylogenetic/taxa-bar-plots-filtered.qzv"
   ]
  },
  {
   "cell_type": "markdown",
   "metadata": {},
   "source": [
    "### 2. Phylogenetic diversity analyses\n",
    "\n",
    "QIIME2 supports several phylogenetic diversity metrics, including Faith’s Phylogenetic Diversity and weighted and unweighted UniFrac. These metrics require a rooted phylogenetic tree relating the features to one another. This information will be stored in a `Phylogeny[Rooted] QIIME 2 artifact`. To generate a phylogenetic tree use `align-to-tree-mafft-fasttree` pipeline from the `q2-phylogeny plugin`.\n",
    "\n",
    "Summary of steps:  \n",
    "1. `mafft` performs msa in `FeatureData[Sequence]` to create a `FeatureData[AlignedSequence]` QIIME2 artifact.  \n",
    "2. Masking or filtering the alignment to remove highly variable positions, which are considered to add noise to a phylogenetic tree.  \n",
    "3. `FastTree` generates the phylogenetic tree from the masked alignment.  \n",
    "\n",
    "The result is an unrooted tree."
   ]
  },
  {
   "cell_type": "code",
   "execution_count": 22,
   "metadata": {},
   "outputs": [
    {
     "name": "stdout",
     "output_type": "stream",
     "text": [
      "\u001b[32mSaved FeatureData[AlignedSequence] to: taxonomic_phylogenetic/aligned-rep-seqs.qza\u001b[0m\n",
      "\u001b[32mSaved FeatureData[AlignedSequence] to: taxonomic_phylogenetic/masked-aligned-rep-seqs.qza\u001b[0m\n",
      "\u001b[32mSaved Phylogeny[Unrooted] to: taxonomic_phylogenetic/unrooted-tree.qza\u001b[0m\n",
      "\u001b[32mSaved Phylogeny[Rooted] to: taxonomic_phylogenetic/rooted-tree.qza\u001b[0m\n",
      "(qiime2-2020.2) "
     ]
    },
    {
     "ename": "",
     "evalue": "1",
     "output_type": "error",
     "traceback": []
    }
   ],
   "source": [
    "qiime phylogeny align-to-tree-mafft-fasttree \\\n",
    "  --i-sequences denoise_dada2/rep-seqs.qza \\\n",
    "  --o-alignment taxonomic_phylogenetic/aligned-rep-seqs.qza \\\n",
    "  --o-masked-alignment taxonomic_phylogenetic/masked-aligned-rep-seqs.qza \\\n",
    "  --o-tree taxonomic_phylogenetic/unrooted-tree.qza \\\n",
    "  --o-rooted-tree taxonomic_phylogenetic/rooted-tree.qza"
   ]
  },
  {
   "cell_type": "markdown",
   "metadata": {},
   "source": [
    "Output artifacts: `aligned-rep-seqs.qza`, `masked-aligned-rep-seqs.qza`, `rooted-tree.qza`, and `unrooted-tree.qza`"
   ]
  },
  {
   "cell_type": "markdown",
   "metadata": {},
   "source": [
    "### 3. Alpha rarefaction\n",
    "\n",
    "*Alpha diversity* is within sample diversity. Rarefaction curves estimate the capture of total diversity as function of sequencing depth.\n",
    "\n",
    "This visualizer computes one or more alpha diversity metrics at multiple sampling depths, in steps between 1 (optionally controlled with `--p-min-depth`) and the value provided as `--p-max-depth`. At each sampling depth step, 10 rarefied tables will be generated, and the diversity metrics will be computed for all samples in the tables. The number of iterations (rarefied tables computed at each sampling depth) can be controlled with `--p-iterations`. \n",
    "\n",
    "Average diversity values are plotted for each sample at each even sampling depth, and samples can be grouped based on metadata in the resulting visualization if sample metadata is provided with the `--m-metadata-file` parameter.\n",
    "\n",
    "The value for `--p-max-depth` should be determined by reviewing the \"Frequency per sample\" information presented in the `table.qzv`. In general, choosing a value that is somewhere around the median frequency is recommended. The value can be increased if the lines in the resulting rarefaction plot don’t appear to be leveling out, or decrease the value if many of the samples are lost due to low total frequencies closer to the minimum sampling depth than the maximum sampling depth."
   ]
  },
  {
   "cell_type": "code",
   "execution_count": 23,
   "metadata": {},
   "outputs": [
    {
     "name": "stdout",
     "output_type": "stream",
     "text": [
      "\u001b[32mSaved Visualization to: taxonomic_phylogenetic/alpha-rarefaction.qzv\u001b[0m\n",
      "(qiime2-2020.2) "
     ]
    },
    {
     "ename": "",
     "evalue": "1",
     "output_type": "error",
     "traceback": []
    }
   ],
   "source": [
    "qiime diversity alpha-rarefaction \\\n",
    "  --i-table denoise_dada2/table.qza \\\n",
    "  --i-phylogeny taxonomic_phylogenetic/rooted-tree.qza \\\n",
    "  --p-max-depth 10000 \\\n",
    "  --m-metadata-file metadata.tsv \\\n",
    "  --o-visualization taxonomic_phylogenetic/alpha-rarefaction.qzv"
   ]
  },
  {
   "cell_type": "markdown",
   "metadata": {},
   "source": [
    "Output visualization: `alpha-rarefaction.qzv` --> `view.qiime2.org`\n",
    "\n",
    "The alpha rarefaction plot is important to explain in more detail:\n",
    "\n",
    "The top plot is an alpha rarefaction plot, and is primarily used to determine if the richness of the samples has been fully observed or sequenced. If the lines in the plot appear to “level out” (i.e., approach a slope of zero, plateau) at some sampling depth along the x-axis, that suggests that collecting additional sequences beyond that sampling depth would not be likely to result in the observation of additional features. If the lines in a plot don’t level out, this may be because the richness of the samples hasn’t been fully observed/sequenced yet (because too few sequences were collected), or it could be an indicator that a lot of sequencing error remains in the data (which is being mistaken for novel diversity).\n",
    "\n",
    "The bottom plot in this visualization is important when grouping samples by metadata (use the drop down menu to evaluate different metadata). It illustrates the number of samples that remain in each group when the feature table is rarefied to each sampling depth. If a given sampling depth `d` is larger than the total frequency of a sample `s` (i.e., the number of sequences that were obtained for sample `s`), it is not possible to compute the diversity metric for sample `s` at sampling depth `d`. If many of the samples in a group have lower total frequencies than `d`, the average diversity presented for that group at `d` in the top plot will be unreliable because it will have been computed on relatively few samples. When grouping samples by metadata, it is therefore essential to look at the bottom plot to ensure that the data presented in the top plot is reliable."
   ]
  },
  {
   "cell_type": "markdown",
   "metadata": {},
   "source": [
    "Done! Next notebook!"
   ]
  },
  {
   "cell_type": "code",
   "execution_count": 24,
   "metadata": {},
   "outputs": [
    {
     "name": "stdout",
     "output_type": "stream",
     "text": [
      "DeprecationWarning: 'source deactivate' is deprecated. Use 'conda deactivate'.\n"
     ]
    }
   ],
   "source": [
    "source deactivate qiime2-2020.2"
   ]
  },
  {
   "cell_type": "code",
   "execution_count": null,
   "metadata": {},
   "outputs": [],
   "source": []
  }
 ],
 "metadata": {
  "kernelspec": {
   "display_name": "Bash",
   "language": "bash",
   "name": "bash"
  },
  "language_info": {
   "codemirror_mode": "shell",
   "file_extension": ".sh",
   "mimetype": "text/x-sh",
   "name": "bash"
  }
 },
 "nbformat": 4,
 "nbformat_minor": 2
}
