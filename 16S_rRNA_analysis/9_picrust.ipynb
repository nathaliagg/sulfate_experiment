{
 "cells": [
  {
   "cell_type": "markdown",
   "metadata": {},
   "source": [
    "# 07/04/2020\n",
    "\n",
    "Source: https://github.com/picrust/picrust2/wiki/q2-picrust2-Tutorial\n",
    "\n",
    "1. PICRUSt2"
   ]
  },
  {
   "cell_type": "code",
   "execution_count": 1,
   "metadata": {},
   "outputs": [],
   "source": [
    "cd /xdisk/tfaily/mig2020/extra/nathaliagg/sulfate_experiment/microbial_16S/qiime2"
   ]
  },
  {
   "cell_type": "markdown",
   "metadata": {},
   "source": [
    "### Load module and environment"
   ]
  },
  {
   "cell_type": "code",
   "execution_count": 2,
   "metadata": {},
   "outputs": [
    {
     "name": "stdout",
     "output_type": "stream",
     "text": [
      "WARNING: $PATH does not agree with $PATH_modshare counter. The following directories' usage counters were adjusted to match. Note that this may mean that module unloading may not work correctly.\n",
      " /cm/local/apps/environment-modules/4.0.0//bin /cm/shared/uaapps/pbspro/19.2.4/sbin /cm/shared/uaapps/pbspro/19.2.4/bin\n",
      "WARNING: $MANPATH does not agree with $MANPATH_modshare counter. The following directories' usage counters were adjusted to match. Note that this may mean that module unloading may not work correctly.\n",
      " /cm/shared/uaapps/pbspro/19.2.4/share/man\n"
     ]
    }
   ],
   "source": [
    "module load anaconda"
   ]
  },
  {
   "cell_type": "code",
   "execution_count": 3,
   "metadata": {},
   "outputs": [
    {
     "name": "stdout",
     "output_type": "stream",
     "text": [
      "(qiime2-2019.10) "
     ]
    },
    {
     "ename": "",
     "evalue": "1",
     "output_type": "error",
     "traceback": []
    }
   ],
   "source": [
    "source activate qiime2-2019.10"
   ]
  },
  {
   "cell_type": "markdown",
   "metadata": {},
   "source": [
    "### 1. PICRUSt\n",
    "\n",
    "The required inputs are `--i-table` and `--i-seq`, which need to correspond to QIIME2 artifacts of types `FeatureTable[Frequency]` and `FeatureData[Sequence]`, respectively. The Feature Table needs to contain the abundances of ASVs (i.e., a BIOM table) and the sequence file needs to be a FASTA file containing the sequences for each ASV.\n",
    "\n",
    "The most important options available in the plugin are for selecting the number of threads (`--p-threads`), the hidden-state prediction (HSP) method (`--p-hsp-method`), and the maximum NSTI value (`--p-max-nsti`).\n",
    "\n",
    "The `--p-max-nsti` option specifies how distantly placed a sequence needs to be in the reference phylogeny before it is excluded. The default cut-off is 2. In human datasets used for testing PICRUSt2 the only ASVs above this default cut-off were 18S sequences erroneously in 16S datasets, which suggests this cut-off is highly lenient. For environmental datasets a higher proportion of ASVs may be thrown out based on this default cut-off.\n",
    "\n",
    "Note in this case the `--p-hsp-method pic` the phylogenetic independent contrast hidden-state prediction method is indicated since it is fastest. However, it's recommend that in practice users use the `--p-hsp-method mp` method."
   ]
  },
  {
   "cell_type": "code",
   "execution_count": 5,
   "metadata": {
    "scrolled": true
   },
   "outputs": [
    {
     "name": "stdout",
     "output_type": "stream",
     "text": [
      "Warning - 46 input sequences aligned poorly to reference sequences (--min_align option specified a minimum proportion of 0.8 aligning to reference sequences). These input sequences will not be placed and will be excluded from downstream steps.\n",
      "\n",
      "This is the set of poorly aligned input sequences to be excluded: 17cd9435a2ca03715c8da1928300828a, e9febe97c5ec827cde0eec0447f87085, 00caa959b22c156dc1211c0e29468729, bad1661ff25ea838d6ed821038878a9a, d17a87b1cb92a9aaeaa86ea1de877712, ea433e1cd3c065ae5036637f193256c4, 2ec424c155efd3dca0caf5d1ce9c3fe5, bdc590da8ddc2a8f359cc2c257239cae, 8db5477fa52649386c151336eb75de39, 3a96524e83d010667e404a77a77c4c1a, 4d8b84b9971f85397a9077c5e850844f, 04aab49fd34a8db1de8ca1057ca74a09, c38c8730e9075351c6ed2477281e191d, 8e43dffc2d273426d6a18c1c9c1373b4, 6b10feb901fde9d2433b0ffc037e45b5, 3c286b5e68db34d1869991ef925a56d1, 695d5aa9d781c8aa113f98b11bb6a9d7, eba19505d7c9449912e29855a9ab8732, 20e9e3037b68aee3edad26522213117f, 1179757c4106e868e132599c5d18b14f, 0c5783fa09ebfd27d65f5c0d8ce4234d, 21c29e25241c6aebdcedddaa8b2ba727, 1511bb0c00dcb06012e623074eef470a, 0aa51061c994844ad7e34c881363b066, 913e03cecf71b4291a8a0fa37c10e3b5, c69dee280cbc552a65c43ff76fb7b94d, 849900c569bfb864cbb4da62fa3e7834, a31dd8cd8afcf11eefc70d31771bf48a, 7df708786ef90eeac920fcd67fd8bebc, ef0d50edd5d8df934543e604e456d800, dc8b4e1c6daa57b39b02587e38ac4fe4, 4cd12bbfd58ca85a25a32d5bac901514, fc73f05e0ec0e590c10dc658acbd51e1, a551c3c4fd95e51607816f5bf13fe851, 2033901de9c7915de77fd7f84a0107f9, 94b1c9c68238f9ca4ddcd2736e1aded4, 8a666d825aee925e8432e9715e15e530, 9317f519c16bc04c297e98979321907c, 5957880e07cfeae003d872983f0d7c5a, 553cb487a79c288b6aef3ced1f86633a, 9fd792ff2e484f7965153354d6c45c85, b8588c8d6ede08cbe5836c7730ba4d25, 79ca531ea2bab9afcd169b944b236b19, 30475e803ef46a58b584123c8db8e2d1, 46babf37ddc2c60355bd899febbcc3f6, 3138852c6807740f7a56b32982bb2cd8\n",
      "\n",
      "\n",
      "\n",
      "\n",
      "\n",
      "46 of 19447 ASVs were above the max NSTI cut-off of 2.0 and were removed.\n",
      "\n",
      "46 of 19447 ASVs were above the max NSTI cut-off of 2.0 and were removed.\n",
      "\n",
      "\n",
      "\u001b[32mSaved FeatureTable[Frequency] to: q2-picrust2_output/ko_metagenome.qza\u001b[0m\n",
      "\u001b[32mSaved FeatureTable[Frequency] to: q2-picrust2_output/ec_metagenome.qza\u001b[0m\n",
      "\u001b[32mSaved FeatureTable[Frequency] to: q2-picrust2_output/pathway_abundance.qza\u001b[0m\n",
      "(qiime2-2019.10) "
     ]
    },
    {
     "ename": "",
     "evalue": "1",
     "output_type": "error",
     "traceback": []
    }
   ],
   "source": [
    "qiime picrust2 full-pipeline \\\n",
    "   --i-table denoise_dada2/table.qza \\\n",
    "   --i-seq denoise_dada2/rep-seqs.qza \\\n",
    "   --output-dir q2-picrust2_output \\\n",
    "   --p-threads 26 \\\n",
    "   --p-hsp-method pic \\\n",
    "   --p-max-nsti 2 \\\n",
    "   --verbose"
   ]
  },
  {
   "cell_type": "markdown",
   "metadata": {},
   "source": [
    "The output files in are:\n",
    "\n",
    "- ec_metagenome.qza - EC metagenome predictions (rows are EC numbers and columns are samples).  \n",
    "- ko_metagenome.qza - KO metagenome predictions (rows are KOs and columns are samples).  \n",
    "- pathway_abundance.qza - MetaCyc pathway abundance predictions (rows are pathways and columns are samples).  \n",
    "\n",
    "\n",
    "The artifacts are all of type `FeatureTable[Frequency]`, which means they can be used with QIIME2 plugins that process and analyze these datatypes.\n",
    "\n",
    "For instance, summary information which you can view like any QIIME2 visualization:"
   ]
  },
  {
   "cell_type": "code",
   "execution_count": 6,
   "metadata": {},
   "outputs": [
    {
     "name": "stdout",
     "output_type": "stream",
     "text": [
      "\u001b[32mSaved Visualization to: q2-picrust2_output/pathway_abundance.qzv\u001b[0m\n",
      "(qiime2-2019.10) (qiime2-2019.10) \u001b[32mSaved Visualization to: q2-picrust2_output/ko_metagenome.qzv\u001b[0m\n",
      "(qiime2-2019.10) (qiime2-2019.10) \u001b[32mSaved Visualization to: q2-picrust2_output/ec_metagenome.qzv\u001b[0m\n",
      "(qiime2-2019.10) "
     ]
    },
    {
     "ename": "",
     "evalue": "1",
     "output_type": "error",
     "traceback": []
    }
   ],
   "source": [
    "qiime feature-table summarize \\\n",
    "   --i-table q2-picrust2_output/pathway_abundance.qza \\\n",
    "   --o-visualization q2-picrust2_output/pathway_abundance.qzv\n",
    "   \n",
    "qiime feature-table summarize \\\n",
    "   --i-table q2-picrust2_output/ko_metagenome.qza \\\n",
    "   --o-visualization q2-picrust2_output/ko_metagenome.qzv\n",
    "   \n",
    "qiime feature-table summarize \\\n",
    "   --i-table q2-picrust2_output/ec_metagenome.qza \\\n",
    "   --o-visualization q2-picrust2_output/ec_metagenome.qzv"
   ]
  },
  {
   "cell_type": "markdown",
   "metadata": {},
   "source": [
    "Note that this file is not in units of relative abundance (e.g. percent) and is instead the sum of the predicted functional abundance contributed by each ASV multiplied by the abundance (the number of input reads) of each ASV.\n",
    "\n",
    "The above metagenome predictions can be integrated into a number of QIIME2 analysis. For instance, you can quickly calculate diversity metrics based on these tables. The first quartile sample pathway abundance found above was 3,583,038, so we will rarify to this cut-off when calculating the core diversity metrics:"
   ]
  },
  {
   "cell_type": "code",
   "execution_count": 7,
   "metadata": {},
   "outputs": [
    {
     "name": "stdout",
     "output_type": "stream",
     "text": [
      "\u001b[32mSaved FeatureTable[Frequency] to: path-abun_core_metrics_out/rarefied_table.qza\u001b[0m\n",
      "\u001b[32mSaved SampleData[AlphaDiversity] to: path-abun_core_metrics_out/observed_otus_vector.qza\u001b[0m\n",
      "\u001b[32mSaved SampleData[AlphaDiversity] to: path-abun_core_metrics_out/shannon_vector.qza\u001b[0m\n",
      "\u001b[32mSaved SampleData[AlphaDiversity] to: path-abun_core_metrics_out/evenness_vector.qza\u001b[0m\n",
      "\u001b[32mSaved DistanceMatrix to: path-abun_core_metrics_out/jaccard_distance_matrix.qza\u001b[0m\n",
      "\u001b[32mSaved DistanceMatrix to: path-abun_core_metrics_out/bray_curtis_distance_matrix.qza\u001b[0m\n",
      "\u001b[32mSaved PCoAResults to: path-abun_core_metrics_out/jaccard_pcoa_results.qza\u001b[0m\n",
      "\u001b[32mSaved PCoAResults to: path-abun_core_metrics_out/bray_curtis_pcoa_results.qza\u001b[0m\n",
      "\u001b[32mSaved Visualization to: path-abun_core_metrics_out/jaccard_emperor.qzv\u001b[0m\n",
      "\u001b[32mSaved Visualization to: path-abun_core_metrics_out/bray_curtis_emperor.qzv\u001b[0m\n",
      "(qiime2-2019.10) (qiime2-2019.10) \u001b[32mSaved FeatureTable[Frequency] to: ko-abun_core_metrics_out/rarefied_table.qza\u001b[0m\n",
      "\u001b[32mSaved SampleData[AlphaDiversity] to: ko-abun_core_metrics_out/observed_otus_vector.qza\u001b[0m\n",
      "\u001b[32mSaved SampleData[AlphaDiversity] to: ko-abun_core_metrics_out/shannon_vector.qza\u001b[0m\n",
      "\u001b[32mSaved SampleData[AlphaDiversity] to: ko-abun_core_metrics_out/evenness_vector.qza\u001b[0m\n",
      "\u001b[32mSaved DistanceMatrix to: ko-abun_core_metrics_out/jaccard_distance_matrix.qza\u001b[0m\n",
      "\u001b[32mSaved DistanceMatrix to: ko-abun_core_metrics_out/bray_curtis_distance_matrix.qza\u001b[0m\n",
      "\u001b[32mSaved PCoAResults to: ko-abun_core_metrics_out/jaccard_pcoa_results.qza\u001b[0m\n",
      "\u001b[32mSaved PCoAResults to: ko-abun_core_metrics_out/bray_curtis_pcoa_results.qza\u001b[0m\n",
      "\u001b[32mSaved Visualization to: ko-abun_core_metrics_out/jaccard_emperor.qzv\u001b[0m\n",
      "\u001b[32mSaved Visualization to: ko-abun_core_metrics_out/bray_curtis_emperor.qzv\u001b[0m\n",
      "(qiime2-2019.10) (qiime2-2019.10) \u001b[32mSaved FeatureTable[Frequency] to: ec-abun_core_metrics_out/rarefied_table.qza\u001b[0m\n",
      "\u001b[32mSaved SampleData[AlphaDiversity] to: ec-abun_core_metrics_out/observed_otus_vector.qza\u001b[0m\n",
      "\u001b[32mSaved SampleData[AlphaDiversity] to: ec-abun_core_metrics_out/shannon_vector.qza\u001b[0m\n",
      "\u001b[32mSaved SampleData[AlphaDiversity] to: ec-abun_core_metrics_out/evenness_vector.qza\u001b[0m\n",
      "\u001b[32mSaved DistanceMatrix to: ec-abun_core_metrics_out/jaccard_distance_matrix.qza\u001b[0m\n",
      "\u001b[32mSaved DistanceMatrix to: ec-abun_core_metrics_out/bray_curtis_distance_matrix.qza\u001b[0m\n",
      "\u001b[32mSaved PCoAResults to: ec-abun_core_metrics_out/jaccard_pcoa_results.qza\u001b[0m\n",
      "\u001b[32mSaved PCoAResults to: ec-abun_core_metrics_out/bray_curtis_pcoa_results.qza\u001b[0m\n",
      "\u001b[32mSaved Visualization to: ec-abun_core_metrics_out/jaccard_emperor.qzv\u001b[0m\n",
      "\u001b[32mSaved Visualization to: ec-abun_core_metrics_out/bray_curtis_emperor.qzv\u001b[0m\n",
      "(qiime2-2019.10) "
     ]
    },
    {
     "ename": "",
     "evalue": "1",
     "output_type": "error",
     "traceback": []
    }
   ],
   "source": [
    "qiime diversity core-metrics \\\n",
    "   --i-table q2-picrust2_output/pathway_abundance.qza \\\n",
    "   --p-sampling-depth 3583038 \\\n",
    "   --m-metadata-file metadata.tsv \\\n",
    "   --output-dir path-abun_core_metrics_out \\\n",
    "   --p-n-jobs 5\n",
    "\n",
    "qiime diversity core-metrics \\\n",
    "   --i-table q2-picrust2_output/ko_metagenome.qza \\\n",
    "   --p-sampling-depth 30928844 \\\n",
    "   --m-metadata-file metadata.tsv \\\n",
    "   --output-dir ko-abun_core_metrics_out \\\n",
    "   --p-n-jobs 5\n",
    "   \n",
    "qiime diversity core-metrics \\\n",
    "   --i-table q2-picrust2_output/ec_metagenome.qza \\\n",
    "   --p-sampling-depth 16857683 \\\n",
    "   --m-metadata-file metadata.tsv \\\n",
    "   --output-dir ec-abun_core_metrics_out \\\n",
    "   --p-n-jobs 5\n",
    "   \n"
   ]
  },
  {
   "cell_type": "markdown",
   "metadata": {},
   "source": [
    "Take a look at `pathabun_core_metrics_out/bray_curtis_emperor.qzv` in the QIIME2 viewer. You should see a ordination plot."
   ]
  },
  {
   "cell_type": "markdown",
   "metadata": {},
   "source": [
    "Users are typically most interested in the predicted KEGG orthologs and MetaCyc pathways. If you want to use the tables outside of QIIME 2 you can convert the files to be BIOM format. For example, you can run this command to convert the pathway abundance table to BIOM format:"
   ]
  },
  {
   "cell_type": "code",
   "execution_count": 9,
   "metadata": {},
   "outputs": [
    {
     "name": "stdout",
     "output_type": "stream",
     "text": [
      "\u001b[32mExported q2-picrust2_output/pathway_abundance.qza as BIOMV210DirFmt to directory pathway_picrust_exported\u001b[0m\n",
      "(qiime2-2019.10) (qiime2-2019.10) (qiime2-2019.10) (qiime2-2019.10) (qiime2-2019.10) \u001b[32mExported q2-picrust2_output/ec_metagenome.qza as BIOMV210DirFmt to directory ec_picrust_exported\u001b[0m\n",
      "(qiime2-2019.10) (qiime2-2019.10) (qiime2-2019.10) (qiime2-2019.10) \u001b[32mExported q2-picrust2_output/ko_metagenome.qza as BIOMV210DirFmt to directory ko_picrust_exported\u001b[0m\n",
      "(qiime2-2019.10) (qiime2-2019.10) (qiime2-2019.10) "
     ]
    },
    {
     "ename": "",
     "evalue": "1",
     "output_type": "error",
     "traceback": []
    }
   ],
   "source": [
    "qiime tools export \\\n",
    "   --input-path q2-picrust2_output/pathway_abundance.qza \\\n",
    "   --output-path pathway_picrust_exported\n",
    "\n",
    "# biom convert because they get saved by feature-table.biom\n",
    "biom convert \\\n",
    "   -i pathway_picrust_exported/feature-table.biom \\\n",
    "   -o pathway_picrust_exported/pathway_abundance.tsv \\\n",
    "   --to-tsv\n",
    "   \n",
    "qiime tools export \\\n",
    "   --input-path q2-picrust2_output/ec_metagenome.qza \\\n",
    "   --output-path ec_picrust_exported\n",
    "   \n",
    "biom convert \\\n",
    "   -i ec_picrust_exported/feature-table.biom \\\n",
    "   -o ec_picrust_exported/ec_metagenome.tsv \\\n",
    "   --to-tsv\n",
    "   \n",
    "qiime tools export \\\n",
    "   --input-path q2-picrust2_output/ko_metagenome.qza \\\n",
    "   --output-path ko_picrust_exported\n",
    "   \n",
    "biom convert \\\n",
    "   -i ko_picrust_exported/feature-table.biom \\\n",
    "   -o ko_picrust_exported/ko_metagenome.tsv \\\n",
    "   --to-tsv"
   ]
  },
  {
   "cell_type": "markdown",
   "metadata": {},
   "source": [
    "Amazing! "
   ]
  }
 ],
 "metadata": {
  "kernelspec": {
   "display_name": "Bash",
   "language": "bash",
   "name": "bash"
  },
  "language_info": {
   "codemirror_mode": "shell",
   "file_extension": ".sh",
   "mimetype": "text/x-sh",
   "name": "bash"
  }
 },
 "nbformat": 4,
 "nbformat_minor": 2
}
